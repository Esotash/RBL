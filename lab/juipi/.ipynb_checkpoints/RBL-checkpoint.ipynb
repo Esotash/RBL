{
 "cells": [
  {
   "cell_type": "markdown",
   "metadata": {
    "id": "7-Q0MeAfh38e"
   },
   "source": [
    "# FLOW\n",
    "Here's the updated project flow incorporating your plan to analyze indicators one at a time and in combinations:\n",
    "\n",
    "1. **Data Acquisition:**\n",
    "   - Fetch Nifty 50 data from Yahoo Finance for the period 2014-2024.\n",
    "   - Clean and preprocess the data.\n",
    "   - **Output:** Cleaned dataset.\n",
    "\n",
    "2. **Feature Engineering (Indicators):**\n",
    "   - **Leading Indicators:**\n",
    "     - Start with the first leading indicator (e.g., RSI).\n",
    "     - Apply it to the dataset.\n",
    "     - Train LSTM, GRU, and RNN models using the dataset with this indicator.\n",
    "     - **Output:** Trained models and performance metrics.\n",
    "\n",
    "   - **Lagging Indicators:**\n",
    "     - Start with the first lagging indicator (e.g., SMA).\n",
    "     - Apply it to the dataset.\n",
    "     - Train LSTM, GRU, and RNN models using the dataset with this indicator.\n",
    "     - **Output:** Trained models and performance metrics.\n",
    "\n",
    "3. **Combining Indicators:**\n",
    "   - **Single Leading and Lagging Indicator:**\n",
    "     - Combine the first leading indicator (e.g., RSI) and the first lagging indicator (e.g., SMA).\n",
    "     - Train models using this combined dataset.\n",
    "     - **Output:** Trained models and performance metrics.\n",
    "\n",
    "   - **First Leading and Second Leading Indicator:**\n",
    "     - Add the second leading indicator (e.g., MACD) to the first leading indicator dataset.\n",
    "     - Train models using this new dataset.\n",
    "     - **Output:** Trained models and performance metrics.\n",
    "\n",
    "   - **First Lagging and Second Lagging Indicator:**\n",
    "     - Add the second lagging indicator (e.g., EMA) to the first lagging indicator dataset.\n",
    "     - Train models using this new dataset.\n",
    "     - **Output:** Trained models and performance metrics.\n",
    "\n",
    "   - **Combining Leading and Lagging Indicators:**\n",
    "     - Combine the first leading indicator and the second lagging indicator.\n",
    "     - Train models using this combined dataset.\n",
    "     - **Output:** Trained models and performance metrics.\n",
    "\n",
    "4. **Evaluation and Prediction:**\n",
    "   - Evaluate all trained models on the testing dataset.\n",
    "   - Compare the performance of each combination.\n",
    "   - Use the best-performing models to make predictions on unseen data.\n",
    "   - **Output:** Performance metrics and predicted values.\n",
    "\n",
    "5. **Backtesting:**\n",
    "   - Simulate trading strategies based on the best predictions.\n",
    "   - Analyze the performance of these strategies.\n",
    "   - **Output:** Backtest results.\n",
    "\n",
    "6. **Model Saving:**\n",
    "   - Save the final models and exported results.\n",
    "   - **Output:** Saved model files and results.\n",
    "\n",
    "7. **Final Output:**\n",
    "   - Visualize the comparison between predicted and actual values.\n",
    "   - Save the complete notebook and results.\n",
    "\n",
    "This structure allows for a systematic approach to testing each indicator and their combinations while evaluating their impact on model performance. Let me know if you need any more adjustments!"
   ]
  },
  {
   "cell_type": "markdown",
   "metadata": {
    "id": "oTDFA23Neszn"
   },
   "source": [
    "# Data Acquisition\n",
    "\n",
    "```\n",
    "# Data Acquisition\n",
    "```\n",
    "\n"
   ]
  },
  {
   "cell_type": "code",
   "execution_count": 8,
   "metadata": {
    "colab": {
     "base_uri": "https://localhost:8080/"
    },
    "id": "OYq1T5JpeNly",
    "outputId": "66a448f5-e6fe-4081-9bf2-86f960cba2ef"
   },
   "outputs": [
    {
     "name": "stdout",
     "output_type": "stream",
     "text": [
      "Requirement already satisfied: yfinance in c:\\users\\prana\\anaconda3\\lib\\site-packages (0.2.43)\n",
      "Requirement already satisfied: pandas in c:\\users\\prana\\anaconda3\\lib\\site-packages (2.2.2)\n",
      "Requirement already satisfied: numpy in c:\\users\\prana\\anaconda3\\lib\\site-packages (1.26.4)\n",
      "Requirement already satisfied: matplotlib in c:\\users\\prana\\anaconda3\\lib\\site-packages (3.8.4)\n",
      "Requirement already satisfied: scikit-learn in c:\\users\\prana\\anaconda3\\lib\\site-packages (1.4.2)\n",
      "Requirement already satisfied: requests>=2.31 in c:\\users\\prana\\anaconda3\\lib\\site-packages (from yfinance) (2.32.2)\n",
      "Requirement already satisfied: multitasking>=0.0.7 in c:\\users\\prana\\anaconda3\\lib\\site-packages (from yfinance) (0.0.11)\n",
      "Requirement already satisfied: lxml>=4.9.1 in c:\\users\\prana\\anaconda3\\lib\\site-packages (from yfinance) (5.2.1)\n",
      "Requirement already satisfied: platformdirs>=2.0.0 in c:\\users\\prana\\anaconda3\\lib\\site-packages (from yfinance) (3.10.0)\n",
      "Requirement already satisfied: pytz>=2022.5 in c:\\users\\prana\\anaconda3\\lib\\site-packages (from yfinance) (2024.1)\n",
      "Requirement already satisfied: frozendict>=2.3.4 in c:\\users\\prana\\anaconda3\\lib\\site-packages (from yfinance) (2.4.2)\n",
      "Requirement already satisfied: peewee>=3.16.2 in c:\\users\\prana\\anaconda3\\lib\\site-packages (from yfinance) (3.17.6)\n",
      "Requirement already satisfied: beautifulsoup4>=4.11.1 in c:\\users\\prana\\anaconda3\\lib\\site-packages (from yfinance) (4.12.3)\n",
      "Requirement already satisfied: html5lib>=1.1 in c:\\users\\prana\\anaconda3\\lib\\site-packages (from yfinance) (1.1)\n",
      "Requirement already satisfied: python-dateutil>=2.8.2 in c:\\users\\prana\\anaconda3\\lib\\site-packages (from pandas) (2.9.0.post0)\n",
      "Requirement already satisfied: tzdata>=2022.7 in c:\\users\\prana\\anaconda3\\lib\\site-packages (from pandas) (2023.3)\n",
      "Requirement already satisfied: contourpy>=1.0.1 in c:\\users\\prana\\anaconda3\\lib\\site-packages (from matplotlib) (1.2.0)\n",
      "Requirement already satisfied: cycler>=0.10 in c:\\users\\prana\\anaconda3\\lib\\site-packages (from matplotlib) (0.11.0)\n",
      "Requirement already satisfied: fonttools>=4.22.0 in c:\\users\\prana\\anaconda3\\lib\\site-packages (from matplotlib) (4.51.0)\n",
      "Requirement already satisfied: kiwisolver>=1.3.1 in c:\\users\\prana\\anaconda3\\lib\\site-packages (from matplotlib) (1.4.4)\n",
      "Requirement already satisfied: packaging>=20.0 in c:\\users\\prana\\anaconda3\\lib\\site-packages (from matplotlib) (23.2)\n",
      "Requirement already satisfied: pillow>=8 in c:\\users\\prana\\anaconda3\\lib\\site-packages (from matplotlib) (10.3.0)\n",
      "Requirement already satisfied: pyparsing>=2.3.1 in c:\\users\\prana\\anaconda3\\lib\\site-packages (from matplotlib) (3.0.9)\n",
      "Requirement already satisfied: scipy>=1.6.0 in c:\\users\\prana\\anaconda3\\lib\\site-packages (from scikit-learn) (1.13.1)\n",
      "Requirement already satisfied: joblib>=1.2.0 in c:\\users\\prana\\anaconda3\\lib\\site-packages (from scikit-learn) (1.4.2)\n",
      "Requirement already satisfied: threadpoolctl>=2.0.0 in c:\\users\\prana\\anaconda3\\lib\\site-packages (from scikit-learn) (2.2.0)\n",
      "Requirement already satisfied: soupsieve>1.2 in c:\\users\\prana\\anaconda3\\lib\\site-packages (from beautifulsoup4>=4.11.1->yfinance) (2.5)\n",
      "Requirement already satisfied: six>=1.9 in c:\\users\\prana\\anaconda3\\lib\\site-packages (from html5lib>=1.1->yfinance) (1.16.0)\n",
      "Requirement already satisfied: webencodings in c:\\users\\prana\\anaconda3\\lib\\site-packages (from html5lib>=1.1->yfinance) (0.5.1)\n",
      "Requirement already satisfied: charset-normalizer<4,>=2 in c:\\users\\prana\\anaconda3\\lib\\site-packages (from requests>=2.31->yfinance) (2.0.4)\n",
      "Requirement already satisfied: idna<4,>=2.5 in c:\\users\\prana\\anaconda3\\lib\\site-packages (from requests>=2.31->yfinance) (3.7)\n",
      "Requirement already satisfied: urllib3<3,>=1.21.1 in c:\\users\\prana\\anaconda3\\lib\\site-packages (from requests>=2.31->yfinance) (2.2.2)\n",
      "Requirement already satisfied: certifi>=2017.4.17 in c:\\users\\prana\\anaconda3\\lib\\site-packages (from requests>=2.31->yfinance) (2024.8.30)\n"
     ]
    }
   ],
   "source": [
    "!pip install yfinance pandas numpy matplotlib scikit-learn\n"
   ]
  },
  {
   "cell_type": "code",
   "execution_count": 6,
   "metadata": {
    "id": "2b5peQ3feqjG"
   },
   "outputs": [],
   "source": [
    "import yfinance as yf\n",
    "import pandas as pd\n",
    "import numpy as np\n",
    "import matplotlib.pyplot as plt\n",
    "from sklearn.preprocessing import MinMaxScaler\n"
   ]
  },
  {
   "cell_type": "code",
   "execution_count": 4,
   "metadata": {
    "colab": {
     "base_uri": "https://localhost:8080/",
     "height": 374
    },
    "id": "u0qO2SfIfkvq",
    "outputId": "4096f002-3013-4321-d77b-35aa5362ceec"
   },
   "outputs": [
    {
     "name": "stdout",
     "output_type": "stream",
     "text": [
      "         Date         Open         High          Low        Close  \\\n",
      "0  2014-01-02  6301.250000  6358.299805  6211.299805  6221.149902   \n",
      "1  2014-01-03  6194.549805  6221.700195  6171.250000  6211.149902   \n",
      "2  2014-01-06  6220.850098  6224.700195  6170.250000  6191.450195   \n",
      "3  2014-01-07  6203.899902  6221.500000  6144.750000  6162.250000   \n",
      "4  2014-01-08  6178.049805  6192.100098  6160.350098  6174.600098   \n",
      "\n",
      "     Adj Close  Volume  \n",
      "0  6221.149902  158100  \n",
      "1  6211.149902  139000  \n",
      "2  6191.450195  118300  \n",
      "3  6162.250000  138600  \n",
      "4  6174.600098  146900  \n"
     ]
    }
   ],
   "source": [
    "# prompt: LOAD THIS FILE /content/NSE50.csv\n",
    "\n",
    "import yfinance as yf\n",
    "import pandas as pd\n",
    "import numpy as np\n",
    "import matplotlib.pyplot as plt\n",
    "from sklearn.preprocessing import MinMaxScaler\n",
    "\n",
    "# Load the data from the CSV file\n",
    "df = pd.read_csv('Untitled Folder/NSE50.csv')\n",
    "\n",
    "# Display the first few rows of the DataFrame to check if data is loaded correctly\n",
    "print(df.head())\n",
    "\n",
    "# Now you can proceed with the rest of your data preprocessing and analysis steps.\n",
    "# ... (your code for data cleaning, feature engineering, model training, etc.)"
   ]
  },
  {
   "cell_type": "markdown",
   "metadata": {
    "id": "kit7ONkZfAmW"
   },
   "source": [
    "# **Feature Engineering (Indicators)**"
   ]
  },
  {
   "cell_type": "markdown",
   "metadata": {
    "id": "dWPNkuE9kTWU"
   },
   "source": [
    "## Calculate Leading Indicators"
   ]
  },
  {
   "cell_type": "code",
   "execution_count": 12,
   "metadata": {
    "id": "K0IfbH5Dq7z0"
   },
   "outputs": [
    {
     "name": "stderr",
     "output_type": "stream",
     "text": [
      "C:\\Users\\prana\\AppData\\Local\\Temp\\ipykernel_20676\\700496501.py:92: FutureWarning: Series.__getitem__ treating keys as positions is deprecated. In a future version, integer keys will always be treated as labels (consistent with DataFrame behavior). To access a value by position, use `ser.iloc[pos]`\n",
      "  ep = data['High'][0]\n",
      "C:\\Users\\prana\\AppData\\Local\\Temp\\ipykernel_20676\\700496501.py:94: FutureWarning: Series.__getitem__ treating keys as positions is deprecated. In a future version, integer keys will always be treated as labels (consistent with DataFrame behavior). To access a value by position, use `ser.iloc[pos]`\n",
      "  sar[0] = data['Low'][0]\n",
      "C:\\Users\\prana\\AppData\\Local\\Temp\\ipykernel_20676\\700496501.py:100: FutureWarning: Series.__getitem__ treating keys as positions is deprecated. In a future version, integer keys will always be treated as labels (consistent with DataFrame behavior). To access a value by position, use `ser.iloc[pos]`\n",
      "  if data['Low'][i] < sar[i]:\n",
      "C:\\Users\\prana\\AppData\\Local\\Temp\\ipykernel_20676\\700496501.py:103: FutureWarning: Series.__getitem__ treating keys as positions is deprecated. In a future version, integer keys will always be treated as labels (consistent with DataFrame behavior). To access a value by position, use `ser.iloc[pos]`\n",
      "  ep = data['Low'][i]\n",
      "C:\\Users\\prana\\AppData\\Local\\Temp\\ipykernel_20676\\700496501.py:115: FutureWarning: Series.__getitem__ treating keys as positions is deprecated. In a future version, integer keys will always be treated as labels (consistent with DataFrame behavior). To access a value by position, use `ser.iloc[pos]`\n",
      "  ep = min(ep, data['Low'][i])\n",
      "C:\\Users\\prana\\AppData\\Local\\Temp\\ipykernel_20676\\700496501.py:106: FutureWarning: Series.__getitem__ treating keys as positions is deprecated. In a future version, integer keys will always be treated as labels (consistent with DataFrame behavior). To access a value by position, use `ser.iloc[pos]`\n",
      "  if data['High'][i] > sar[i]:\n",
      "C:\\Users\\prana\\AppData\\Local\\Temp\\ipykernel_20676\\700496501.py:109: FutureWarning: Series.__getitem__ treating keys as positions is deprecated. In a future version, integer keys will always be treated as labels (consistent with DataFrame behavior). To access a value by position, use `ser.iloc[pos]`\n",
      "  ep = data['High'][i]\n",
      "C:\\Users\\prana\\AppData\\Local\\Temp\\ipykernel_20676\\700496501.py:113: FutureWarning: Series.__getitem__ treating keys as positions is deprecated. In a future version, integer keys will always be treated as labels (consistent with DataFrame behavior). To access a value by position, use `ser.iloc[pos]`\n",
      "  ep = max(ep, data['High'][i])\n"
     ]
    }
   ],
   "source": [
    "import pandas as pd\n",
    "import numpy as np\n",
    "\n",
    "# Load Nifty 50 data from the CSV file\n",
    "nifty_data = pd.read_csv('Untitled Folder/NSE50.csv', parse_dates=['Date'], index_col='Date')\n",
    "\n",
    "# Define functions for each indicator (as described previously)\n",
    "def compute_rsi(data, window=14):\n",
    "    delta = data['Close'].diff()\n",
    "    gain = (delta.where(delta > 0, 0)).rolling(window=window).mean()\n",
    "    loss = (-delta.where(delta < 0, 0)).rolling(window=window).mean()\n",
    "    rs = gain / loss\n",
    "    return 100 - (100 / (1 + rs))\n",
    "\n",
    "def compute_macd(data, short_window=12, long_window=26, signal_window=9):\n",
    "    exp1 = data['Close'].ewm(span=short_window, adjust=False).mean()\n",
    "    exp2 = data['Close'].ewm(span=long_window, adjust=False).mean()\n",
    "    macd = exp1 - exp2\n",
    "    signal = macd.ewm(span=signal_window, adjust=False).mean()\n",
    "    return macd, signal\n",
    "\n",
    "def compute_stochastic_oscillator(data, k_window=14, d_window=3):\n",
    "    lowest_low = data['Low'].rolling(window=k_window).min()\n",
    "    highest_high = data['High'].rolling(window=k_window).max()\n",
    "    stoch_k = 100 * ((data['Close'] - lowest_low) / (highest_high - lowest_low))\n",
    "    stoch_d = stoch_k.rolling(window=d_window).mean()\n",
    "    return stoch_k, stoch_d\n",
    "\n",
    "def compute_williams_r(data, window=14):\n",
    "    highest_high = data['High'].rolling(window=window).max()\n",
    "    lowest_low = data['Low'].rolling(window=window).min()\n",
    "    return -100 * ((highest_high - data['Close']) / (highest_high - lowest_low))\n",
    "\n",
    "def compute_adx(data, window=14):\n",
    "    data['high_low'] = data['High'] - data['Low']\n",
    "    data['high_prev_close'] = abs(data['High'] - data['Close'].shift(1))\n",
    "    data['low_prev_close'] = abs(data['Low'] - data['Close'].shift(1))\n",
    "    data['true_range'] = data[['high_low', 'high_prev_close', 'low_prev_close']].max(axis=1)\n",
    "\n",
    "    data['+DM'] = np.where((data['High'].diff() > data['Low'].diff()) & (data['High'].diff() > 0), data['High'].diff(), 0)\n",
    "    data['-DM'] = np.where((data['Low'].diff() < data['High'].diff()) & (data['Low'].diff() < 0), -data['Low'].diff(), 0)\n",
    "    data['+DI'] = 100 * (data['+DM'].rolling(window=window).sum() / data['true_range'].rolling(window=window).sum())\n",
    "    data['-DI'] = 100 * (data['-DM'].rolling(window=window).sum() / data['true_range'].rolling(window=window).sum())\n",
    "    data['adx'] = 100 * (abs(data['+DI'] - data['-DI']) / (data['+DI'] + data['-DI'])).rolling(window=window).mean()\n",
    "    return data['adx']\n",
    "\n",
    "def compute_roc(data, window=12):\n",
    "    return data['Close'].diff(window).div(data['Close'].shift(window)).mul(100)\n",
    "\n",
    "def compute_cmf(data, window=20):\n",
    "    money_flow_multiplier = ((data['Close'] - data['Low']) - (data['High'] - data['Close'])) / (data['High'] - data['Low'])\n",
    "    money_flow_volume = money_flow_multiplier * data['Volume']\n",
    "    cmf = money_flow_volume.rolling(window=window).sum() / data['Volume'].rolling(window=window).sum()\n",
    "    return cmf\n",
    "\n",
    "def compute_cci(data, window=14):\n",
    "    typical_price = (data['High'] + data['Low'] + data['Close']) / 3\n",
    "    sma = typical_price.rolling(window=window).mean()\n",
    "    mean_deviation = typical_price.rolling(window=window).apply(lambda x: np.mean(np.abs(x - x.mean()), axis=0))\n",
    "    return (typical_price - sma) / (0.015 * mean_deviation)\n",
    "\n",
    "def compute_obv(data):\n",
    "    obv = (np.sign(data['Close'].diff()) * data['Volume']).cumsum()\n",
    "    return obv\n",
    "\n",
    "def compute_momentum(data, window=10):\n",
    "    return data['Close'].diff(window)\n",
    "\n",
    "def compute_sma(data, window):\n",
    "    return data['Close'].rolling(window=window).mean()\n",
    "\n",
    "def compute_ema(data, window):\n",
    "    return data['Close'].ewm(span=window, adjust=False).mean()\n",
    "\n",
    "def compute_bollinger_bands(data, window=20):\n",
    "    sma = compute_sma(data, window)\n",
    "    std_dev = data['Close'].rolling(window=window).std()\n",
    "    upper_band = sma + (std_dev * 2)\n",
    "    lower_band = sma - (std_dev * 2)\n",
    "    return upper_band, lower_band\n",
    "\n",
    "def compute_atr(data, window=14):\n",
    "    high_low = data['High'] - data['Low']\n",
    "    high_close = abs(data['High'] - data['Close'].shift(1))\n",
    "    low_close = abs(data['Low'] - data['Close'].shift(1))\n",
    "    tr = pd.concat([high_low, high_close, low_close], axis=1).max(axis=1)\n",
    "    return tr.rolling(window=window).mean()\n",
    "\n",
    "def compute_parabolic_sar(data, step=0.02, max_step=0.2):\n",
    "    sar = np.zeros(len(data))\n",
    "    long = True\n",
    "    ep = data['High'][0]\n",
    "    af = step\n",
    "    sar[0] = data['Low'][0]\n",
    "\n",
    "    for i in range(1, len(data)):\n",
    "        sar[i] = sar[i - 1] + af * (ep - sar[i - 1])\n",
    "\n",
    "        if long:\n",
    "            if data['Low'][i] < sar[i]:\n",
    "                long = False\n",
    "                sar[i] = ep\n",
    "                ep = data['Low'][i]\n",
    "                af = step\n",
    "        else:\n",
    "            if data['High'][i] > sar[i]:\n",
    "                long = True\n",
    "                sar[i] = ep\n",
    "                ep = data['High'][i]\n",
    "                af = step\n",
    "\n",
    "        if long:\n",
    "            ep = max(ep, data['High'][i])\n",
    "        else:\n",
    "            ep = min(ep, data['Low'][i])\n",
    "\n",
    "        af = min(af + step, max_step)\n",
    "\n",
    "    return sar\n",
    "\n",
    "def compute_ichimoku_cloud(data):\n",
    "    nine_period_high = data['High'].rolling(window=9).max()\n",
    "    nine_period_low = data['Low'].rolling(window=9).min()\n",
    "    data['tenkan_sen'] = (nine_period_high + nine_period_low) / 2\n",
    "\n",
    "    period26_high = data['High'].rolling(window=26).max()\n",
    "    period26_low = data['Low'].rolling(window=26).min()\n",
    "    data['kijun_sen'] = (period26_high + period26_low) / 2\n",
    "\n",
    "    data['senkou_span_a'] = ((data['tenkan_sen'] + data['kijun_sen']) / 2).shift(26)\n",
    "    data['senkou_span_b'] = ((data['High'].rolling(window=52).max() + data['Low'].rolling(window=52).min()) / 2).shift(26)\n",
    "    data['chikou_span'] = data['Close'].shift(-26)\n",
    "\n",
    "    return data[['tenkan_sen', 'kijun_sen', 'senkou_span_a', 'senkou_span_b', 'chikou_span']]\n",
    "\n",
    "def compute_volume_moving_average(data, window):\n",
    "    return data['Volume'].rolling(window=window).mean()\n",
    "\n",
    "# Calculate Leading Indicators\n",
    "nifty_data['RSI'] = compute_rsi(nifty_data)\n",
    "nifty_data['MACD'], nifty_data['MACD_Signal'] = compute_macd(nifty_data)\n",
    "nifty_data['Stochastic_K'], nifty_data['Stochastic_D'] = compute_stochastic_oscillator(nifty_data)\n",
    "nifty_data['Williams_%R'] = compute_williams_r(nifty_data)\n",
    "nifty_data['ADX'] = compute_adx(nifty_data)\n",
    "nifty_data['ROC'] = compute_roc(nifty_data)\n",
    "nifty_data['CMF'] = compute_cmf(nifty_data)\n",
    "nifty_data['CCI'] = compute_cci(nifty_data)\n",
    "nifty_data['OBV'] = compute_obv(nifty_data)\n",
    "nifty_data['Momentum'] = compute_momentum(nifty_data)\n",
    "\n",
    "# Calculate Lagging Indicators\n",
    "nifty_data['SMA_20'] = compute_sma(nifty_data, 20)\n",
    "nifty_data['EMA_20'] = compute_ema(nifty_data, 20)\n",
    "nifty_data['Bollinger_Upper'], nifty_data['Bollinger_Lower'] = compute_bollinger_bands(nifty_data, 20)\n",
    "nifty_data['ATR'] = compute_atr(nifty_data)\n",
    "nifty_data['Parabolic_SAR'] = compute_parabolic_sar(nifty_data)\n",
    "\n",
    "# Save the updated DataFrame to a new CSV file\n",
    "nifty_data.to_csv('Untitled Folder/NSE501.csv')\n"
   ]
  },
  {
   "cell_type": "code",
   "execution_count": 14,
   "metadata": {
    "id": "Vau-kgh8rosR"
   },
   "outputs": [
    {
     "name": "stdout",
     "output_type": "stream",
     "text": [
      "         Date         Open         High          Low        Close  \\\n",
      "0  2014-01-02  6301.250000  6358.299805  6211.299805  6221.149902   \n",
      "1  2014-01-03  6194.549805  6221.700195  6171.250000  6211.149902   \n",
      "2  2014-01-06  6220.850098  6224.700195  6170.250000  6191.450195   \n",
      "3  2014-01-07  6203.899902  6221.500000  6144.750000  6162.250000   \n",
      "4  2014-01-08  6178.049805  6192.100098  6160.350098  6174.600098   \n",
      "\n",
      "     Adj Close  Volume  RSI      MACD  MACD_Signal  ...  CMF  CCI       OBV  \\\n",
      "0  6221.149902  158100  NaN  0.000000     0.000000  ...  NaN  NaN       NaN   \n",
      "1  6211.149902  139000  NaN -0.797721    -0.159544  ...  NaN  NaN -139000.0   \n",
      "2  6191.450195  118300  NaN -2.985111    -0.724658  ...  NaN  NaN -257300.0   \n",
      "3  6162.250000  138600  NaN -6.994221    -1.978570  ...  NaN  NaN -395900.0   \n",
      "4  6174.600098  146900  NaN -9.070362    -3.396929  ...  NaN  NaN -249000.0   \n",
      "\n",
      "   Momentum  SMA_20       EMA_20  Bollinger_Upper  Bollinger_Lower  ATR  \\\n",
      "0       NaN     NaN  6221.149902              NaN              NaN  NaN   \n",
      "1       NaN     NaN  6220.197521              NaN              NaN  NaN   \n",
      "2       NaN     NaN  6217.459681              NaN              NaN  NaN   \n",
      "3       NaN     NaN  6212.201616              NaN              NaN  NaN   \n",
      "4       NaN     NaN  6208.620519              NaN              NaN  NaN   \n",
      "\n",
      "   Parabolic_SAR  \n",
      "0    6211.299805  \n",
      "1    6358.299805  \n",
      "2    6350.817813  \n",
      "3    6339.983744  \n",
      "4    6324.365044  \n",
      "\n",
      "[5 rows x 34 columns]\n"
     ]
    }
   ],
   "source": [
    "# prompt: print(data.head(/content/NSE501.csv))\n",
    "\n",
    "import pandas as pd\n",
    "\n",
    "# Load the data from the CSV file\n",
    "data = pd.read_csv('Untitled Folder/NSE501.csv')\n",
    "\n",
    "print(data.head())"
   ]
  },
  {
   "cell_type": "code",
   "execution_count": 20,
   "metadata": {
    "id": "_nNuShRwr8eC"
   },
   "outputs": [],
   "source": [
    "# Option 1: Drop rows with NaN values\n",
    "nifty_data.dropna(inplace=True)\n",
    "\n",
    "# Option 2: Fill NaN values (optional, if you want to keep all data)\n",
    "# nifty_data.fillna(method='ffill', inplace=True)  # Forward fill\n",
    "# nifty_data.fillna(method='bfill', inplace=True)  # Backward fill\n",
    "\n",
    "# Save the updated DataFrame to a new CSV file\n",
    "nifty_data.to_csv('Untitled Folder/NSE501.csv')\n"
   ]
  },
  {
   "cell_type": "code",
   "execution_count": 22,
   "metadata": {
    "id": "7HNGNzRXr-Cv"
   },
   "outputs": [
    {
     "name": "stdout",
     "output_type": "stream",
     "text": [
      "         Date         Open         High          Low        Close  \\\n",
      "0  2014-02-07  6077.649902  6079.950195  6030.899902  6063.200195   \n",
      "1  2014-02-10  6072.799805  6083.049805  6046.399902  6053.450195   \n",
      "2  2014-02-11  6072.450195  6081.850098  6053.250000  6062.700195   \n",
      "3  2014-02-12  6085.350098  6106.600098  6077.399902  6084.000000   \n",
      "4  2014-02-13  6087.549805  6094.399902  5991.100098  6001.100098   \n",
      "\n",
      "     Adj Close  Volume        RSI       MACD  MACD_Signal  ...       CMF  \\\n",
      "0  6063.200195  181900  24.940127 -54.957774   -35.979771  ...  0.131203   \n",
      "1  6053.450195  133100  22.894367 -54.279620   -39.639741  ...  0.075324   \n",
      "2  6062.700195  150500  20.254094 -52.391840   -42.190161  ...  0.081458   \n",
      "3  6084.000000  138500  22.685034 -48.616622   -43.475453  ...  0.017953   \n",
      "4  6001.100098  153700  22.497146 -51.717893   -45.123941  ... -0.012437   \n",
      "\n",
      "         CCI       OBV    Momentum       SMA_20       EMA_20  Bollinger_Upper  \\\n",
      "0 -49.691789 -395300.0 -203.549805  6182.764990  6133.866102      6435.099165   \n",
      "1 -40.989858 -528400.0  -82.399902  6171.800000  6126.207444      6426.715853   \n",
      "2 -29.327372 -377900.0  -63.549805  6162.842505  6120.159135      6419.974851   \n",
      "3   9.112384 -239400.0  -36.250000  6150.997510  6116.715408      6399.141728   \n",
      "4 -59.788795 -393100.0  -72.600098  6135.107520  6105.704426      6378.639453   \n",
      "\n",
      "   Bollinger_Lower        ATR  Parabolic_SAR  \n",
      "0      5930.430816  70.835763    5933.299805  \n",
      "1      5916.884147  71.139335    5939.165820  \n",
      "2      5905.710159  68.717913    5947.798859  \n",
      "3      5902.853292  69.053606    5958.618935  \n",
      "4      5891.575586  70.592878    5973.417051  \n",
      "\n",
      "[5 rows x 34 columns]\n"
     ]
    }
   ],
   "source": [
    "# prompt: print(data.head(/content/NSE501.csv))\n",
    "\n",
    "import pandas as pd\n",
    "\n",
    "# Load the data from the CSV file\n",
    "data = pd.read_csv('Untitled Folder/NSE501.csv')\n",
    "\n",
    "print(data.head())"
   ]
  },
  {
   "cell_type": "code",
   "execution_count": 26,
   "metadata": {
    "id": "sbX8KPWfsTxT"
   },
   "outputs": [
    {
     "name": "stdout",
     "output_type": "stream",
     "text": [
      "<class 'pandas.core.frame.DataFrame'>\n",
      "DatetimeIndex: 2453 entries, 2014-01-02 to 2023-12-29\n",
      "Data columns (total 6 columns):\n",
      " #   Column     Non-Null Count  Dtype  \n",
      "---  ------     --------------  -----  \n",
      " 0   open       2453 non-null   float64\n",
      " 1   high       2453 non-null   float64\n",
      " 2   low        2453 non-null   float64\n",
      " 3   close      2453 non-null   float64\n",
      " 4   adj_close  2453 non-null   float64\n",
      " 5   volume     2453 non-null   int64  \n",
      "dtypes: float64(5), int64(1)\n",
      "memory usage: 134.1 KB\n",
      "None\n",
      "                   open         high          low        close    adj_close  \\\n",
      "Date                                                                          \n",
      "2014-01-02  6301.250000  6358.299805  6211.299805  6221.149902  6221.149902   \n",
      "2014-01-03  6194.549805  6221.700195  6171.250000  6211.149902  6211.149902   \n",
      "2014-01-06  6220.850098  6224.700195  6170.250000  6191.450195  6191.450195   \n",
      "2014-01-07  6203.899902  6221.500000  6144.750000  6162.250000  6162.250000   \n",
      "2014-01-08  6178.049805  6192.100098  6160.350098  6174.600098  6174.600098   \n",
      "\n",
      "            volume  \n",
      "Date                \n",
      "2014-01-02  158100  \n",
      "2014-01-03  139000  \n",
      "2014-01-06  118300  \n",
      "2014-01-07  138600  \n",
      "2014-01-08  146900  \n"
     ]
    }
   ],
   "source": [
    "import pandas as pd\n",
    "\n",
    "# Load the data\n",
    "nifty_data = pd.read_csv('Untitled Folder/NSE50.csv', parse_dates=['Date'])\n",
    "nifty_data.set_index('Date', inplace=True)\n",
    "\n",
    "# Step 1: Remove duplicate rows\n",
    "nifty_data.drop_duplicates(inplace=True)\n",
    "\n",
    "# Step 2: Handle missing values\n",
    "nifty_data.dropna(inplace=True)  # Option to drop\n",
    "# nifty_data.fillna(method='ffill', inplace=True)  # Or forward-fill\n",
    "\n",
    "# Step 3: Ensure proper data types\n",
    "nifty_data = nifty_data.astype({\n",
    "    'Open': 'float64',\n",
    "    'High': 'float64',\n",
    "    'Low': 'float64',\n",
    "    'Close': 'float64',\n",
    "    'Adj Close': 'float64',\n",
    "    'Volume': 'int64'\n",
    "})\n",
    "\n",
    "# Step 4: Standardize column names\n",
    "nifty_data.columns = nifty_data.columns.str.lower().str.replace(' ', '_')\n",
    "\n",
    "# Step 5: Remove unnecessary columns (if any)\n",
    "# nifty_data.drop(columns=['unnecessary_column'], inplace=True)\n",
    "\n",
    "# Step 6: Outlier detection and handling\n",
    "# You can use IQR or Z-score method to find outliers\n",
    "\n",
    "# Step 7: Feature scaling (optional)\n",
    "# from sklearn.preprocessing import StandardScaler\n",
    "# scaler = StandardScaler()\n",
    "# nifty_data[['open', 'high', 'low', 'close', 'adj_close', 'volume']] = scaler.fit_transform(nifty_data[['open', 'high', 'low', 'close', 'adj_close', 'volume']])\n",
    "\n",
    "# Step 8: Add additional features (if required)\n",
    "# nifty_data['lagged_close'] = nifty_data['close'].shift(1)\n",
    "\n",
    "# Final check\n",
    "print(nifty_data.info())\n",
    "print(nifty_data.head())\n",
    "\n",
    "# Save the cleaned data\n",
    "nifty_data.to_csv('Untitled Folder/NSE501_cleaned.csv')\n"
   ]
  },
  {
   "cell_type": "markdown",
   "metadata": {
    "id": "PYlMx-ZEkwdY"
   },
   "source": [
    "### **Relative Strength Index (RSI)**"
   ]
  },
  {
   "cell_type": "code",
   "execution_count": 28,
   "metadata": {
    "id": "4cOQKvTlero9"
   },
   "outputs": [
    {
     "name": "stdout",
     "output_type": "stream",
     "text": [
      "         Date         Open         High          Low        Close  \\\n",
      "0  2014-02-07  6077.649902  6079.950195  6030.899902  6063.200195   \n",
      "1  2014-02-10  6072.799805  6083.049805  6046.399902  6053.450195   \n",
      "2  2014-02-11  6072.450195  6081.850098  6053.250000  6062.700195   \n",
      "3  2014-02-12  6085.350098  6106.600098  6077.399902  6084.000000   \n",
      "4  2014-02-13  6087.549805  6094.399902  5991.100098  6001.100098   \n",
      "\n",
      "     Adj Close  Volume  RSI       MACD  MACD_Signal  ...       CMF        CCI  \\\n",
      "0  6063.200195  181900  NaN -54.957774   -35.979771  ...  0.131203 -49.691789   \n",
      "1  6053.450195  133100  NaN -54.279620   -39.639741  ...  0.075324 -40.989858   \n",
      "2  6062.700195  150500  NaN -52.391840   -42.190161  ...  0.081458 -29.327372   \n",
      "3  6084.000000  138500  NaN -48.616622   -43.475453  ...  0.017953   9.112384   \n",
      "4  6001.100098  153700  NaN -51.717893   -45.123941  ... -0.012437 -59.788795   \n",
      "\n",
      "        OBV    Momentum       SMA_20       EMA_20  Bollinger_Upper  \\\n",
      "0 -395300.0 -203.549805  6182.764990  6133.866102      6435.099165   \n",
      "1 -528400.0  -82.399902  6171.800000  6126.207444      6426.715853   \n",
      "2 -377900.0  -63.549805  6162.842505  6120.159135      6419.974851   \n",
      "3 -239400.0  -36.250000  6150.997510  6116.715408      6399.141728   \n",
      "4 -393100.0  -72.600098  6135.107520  6105.704426      6378.639453   \n",
      "\n",
      "   Bollinger_Lower        ATR  Parabolic_SAR  \n",
      "0      5930.430816  70.835763    5933.299805  \n",
      "1      5916.884147  71.139335    5939.165820  \n",
      "2      5905.710159  68.717913    5947.798859  \n",
      "3      5902.853292  69.053606    5958.618935  \n",
      "4      5891.575586  70.592878    5973.417051  \n",
      "\n",
      "[5 rows x 34 columns]\n"
     ]
    }
   ],
   "source": [
    "import pandas as pd\n",
    "import numpy as np\n",
    "\n",
    "# Load your data (replace this with your actual data loading code)\n",
    "# data = pd.read_csv('your_nifty_data.csv')\n",
    "\n",
    "# Calculate RSI\n",
    "def compute_rsi(data, window=14):\n",
    "    delta = data['Close'].diff()\n",
    "    gain = (delta.where(delta > 0, 0)).rolling(window=window).mean()\n",
    "    loss = (-delta.where(delta < 0, 0)).rolling(window=window).mean()\n",
    "    rs = gain / loss\n",
    "    return 100 - (100 / (1 + rs))\n",
    "\n",
    "# Add RSI to the DataFrame\n",
    "data['RSI'] = compute_rsi(data)\n",
    "\n",
    "# Save the updated DataFrame to a new CSV file\n",
    "data.to_csv('NSE501.csv', index=False)\n",
    "\n",
    "# Display the first few rows of the updated DataFrame\n",
    "print(data.head())\n"
   ]
  },
  {
   "cell_type": "markdown",
   "metadata": {
    "id": "r91Sz4Lyk4Uh"
   },
   "source": [
    "### Moving Average Convergence Divergence (MACD)\n"
   ]
  },
  {
   "cell_type": "code",
   "execution_count": 30,
   "metadata": {
    "id": "HmV_5ltrfnPw"
   },
   "outputs": [
    {
     "name": "stdout",
     "output_type": "stream",
     "text": [
      "         Date         Open         High          Low        Close  \\\n",
      "0  2014-02-07  6077.649902  6079.950195  6030.899902  6063.200195   \n",
      "1  2014-02-10  6072.799805  6083.049805  6046.399902  6053.450195   \n",
      "2  2014-02-11  6072.450195  6081.850098  6053.250000  6062.700195   \n",
      "3  2014-02-12  6085.350098  6106.600098  6077.399902  6084.000000   \n",
      "4  2014-02-13  6087.549805  6094.399902  5991.100098  6001.100098   \n",
      "\n",
      "     Adj Close  Volume  RSI      MACD  MACD_Signal  ...       CMF        CCI  \\\n",
      "0  6063.200195  181900  NaN  0.000000     0.000000  ...  0.131203 -49.691789   \n",
      "1  6053.450195  133100  NaN -0.777778    -0.155556  ...  0.075324 -40.989858   \n",
      "2  6062.700195  150500  NaN -0.640393    -0.252523  ...  0.081458 -29.327372   \n",
      "3  6084.000000  138500  NaN  1.173673     0.032716  ...  0.017953   9.112384   \n",
      "4  6001.100098  153700  NaN -4.031523    -0.780132  ... -0.012437 -59.788795   \n",
      "\n",
      "        OBV    Momentum       SMA_20       EMA_20  Bollinger_Upper  \\\n",
      "0 -395300.0 -203.549805  6182.764990  6133.866102      6435.099165   \n",
      "1 -528400.0  -82.399902  6171.800000  6126.207444      6426.715853   \n",
      "2 -377900.0  -63.549805  6162.842505  6120.159135      6419.974851   \n",
      "3 -239400.0  -36.250000  6150.997510  6116.715408      6399.141728   \n",
      "4 -393100.0  -72.600098  6135.107520  6105.704426      6378.639453   \n",
      "\n",
      "   Bollinger_Lower        ATR  Parabolic_SAR  \n",
      "0      5930.430816  70.835763    5933.299805  \n",
      "1      5916.884147  71.139335    5939.165820  \n",
      "2      5905.710159  68.717913    5947.798859  \n",
      "3      5902.853292  69.053606    5958.618935  \n",
      "4      5891.575586  70.592878    5973.417051  \n",
      "\n",
      "[5 rows x 34 columns]\n"
     ]
    }
   ],
   "source": [
    "# Calculate MACD\n",
    "def compute_macd(data, short_window=12, long_window=26, signal_window=9):\n",
    "    exp1 = data['Close'].ewm(span=short_window, adjust=False).mean()\n",
    "    exp2 = data['Close'].ewm(span=long_window, adjust=False).mean()\n",
    "    macd = exp1 - exp2\n",
    "    signal = macd.ewm(span=signal_window, adjust=False).mean()\n",
    "    return macd, signal\n",
    "\n",
    "# Add MACD and Signal to the DataFrame\n",
    "data['MACD'], data['MACD_Signal'] = compute_macd(data)\n",
    "\n",
    "# Save the updated DataFrame to the same CSV file\n",
    "data.to_csv('NSE501.csv', index=False)\n",
    "\n",
    "# Display the first few rows of the updated DataFrame\n",
    "print(data.head())\n"
   ]
  },
  {
   "cell_type": "markdown",
   "metadata": {
    "id": "1QKtP3vvk-6A"
   },
   "source": [
    "### Stochastic Oscillator"
   ]
  },
  {
   "cell_type": "code",
   "execution_count": 34,
   "metadata": {
    "id": "56WH8vVXiOZM"
   },
   "outputs": [
    {
     "name": "stdout",
     "output_type": "stream",
     "text": [
      "            Date         Close    Stoch_K    Stoch_D\n",
      "2448  2023-12-22  21349.400391  72.376287  69.937571\n",
      "2449  2023-12-26  21441.349609  81.584652  74.273573\n",
      "2450  2023-12-27  21654.750000  97.682759  83.881232\n",
      "2451  2023-12-28  21778.699219  97.795434  92.354282\n",
      "2452  2023-12-29  21731.400391  93.211989  96.230061\n"
     ]
    }
   ],
   "source": [
    "import pandas as pd\n",
    "\n",
    "# Function to compute Stochastic Oscillator\n",
    "def compute_stochastic_oscillator(data, k_window=14, d_window=3):\n",
    "    lowest_low = data['Low'].rolling(window=k_window).min()\n",
    "    highest_high = data['High'].rolling(window=k_window).max()\n",
    "    stoch_k = 100 * ((data['Close'] - lowest_low) / (highest_high - lowest_low))\n",
    "    stoch_d = stoch_k.rolling(window=d_window).mean()\n",
    "    return stoch_k, stoch_d\n",
    "\n",
    "# Load your dataset\n",
    "data = pd.read_csv('Untitled Folder/NSE50.csv')  # Path to your dataset\n",
    "data['Stoch_K'], data['Stoch_D'] = compute_stochastic_oscillator(data)\n",
    "\n",
    "# Display the last few rows to check the output\n",
    "print(data[['Date', 'Close', 'Stoch_K', 'Stoch_D']].tail())\n"
   ]
  },
  {
   "cell_type": "markdown",
   "metadata": {
    "id": "ToZoQWaQlBpA"
   },
   "source": [
    "### Williams %R\n"
   ]
  },
  {
   "cell_type": "code",
   "execution_count": 39,
   "metadata": {
    "id": "nk-3ZqNMkYtA"
   },
   "outputs": [
    {
     "name": "stdout",
     "output_type": "stream",
     "text": [
      "            Date         Close  Williams_R\n",
      "2448  2023-12-22  21349.400391  -27.623713\n",
      "2449  2023-12-26  21441.349609  -18.415348\n",
      "2450  2023-12-27  21654.750000   -2.317241\n",
      "2451  2023-12-28  21778.699219   -2.204566\n",
      "2452  2023-12-29  21731.400391   -6.788011\n"
     ]
    }
   ],
   "source": [
    "import pandas as pd\n",
    "\n",
    "# Function to compute Williams %R\n",
    "def compute_williams_r(data, window=14):\n",
    "    highest_high = data['High'].rolling(window=window).max()\n",
    "    lowest_low = data['Low'].rolling(window=window).min()\n",
    "    return -100 * ((highest_high - data['Close']) / (highest_high - lowest_low))\n",
    "\n",
    "# Load your dataset\n",
    "data = pd.read_csv('Untitled Folder/NSE50.csv')  # Path to your dataset\n",
    "data['Williams_R'] = compute_williams_r(data)\n",
    "\n",
    "# Display the last few rows to check the output\n",
    "print(data[['Date', 'Close', 'Williams_R']].tail())\n"
   ]
  },
  {
   "cell_type": "markdown",
   "metadata": {
    "id": "Uam49Ut_lH-f"
   },
   "source": [
    "### Average Directional Index (ADX"
   ]
  },
  {
   "cell_type": "code",
   "execution_count": 41,
   "metadata": {
    "id": "bboh3u09lHnh"
   },
   "outputs": [
    {
     "name": "stdout",
     "output_type": "stream",
     "text": [
      "            Date         Close        ADX\n",
      "2448  2023-12-22  21349.400391  66.448468\n",
      "2449  2023-12-26  21441.349609  60.235384\n",
      "2450  2023-12-27  21654.750000  55.401200\n",
      "2451  2023-12-28  21778.699219  50.761619\n",
      "2452  2023-12-29  21731.400391  45.690269\n"
     ]
    }
   ],
   "source": [
    "import pandas as pd\n",
    "import numpy as np\n",
    "\n",
    "# Function to compute ADX\n",
    "def compute_adx(data, window=14):\n",
    "    data['high_low'] = data['High'] - data['Low']\n",
    "    data['high_prev_close'] = abs(data['High'] - data['Close'].shift(1))\n",
    "    data['low_prev_close'] = abs(data['Low'] - data['Close'].shift(1))\n",
    "    data['true_range'] = data[['high_low', 'high_prev_close', 'low_prev_close']].max(axis=1)\n",
    "\n",
    "    data['+DM'] = np.where((data['High'].diff() > data['Low'].diff()) & (data['High'].diff() > 0), data['High'].diff(), 0)\n",
    "    data['-DM'] = np.where((data['Low'].diff() < data['High'].diff()) & (data['Low'].diff() < 0), -data['Low'].diff(), 0)\n",
    "    data['+DI'] = 100 * (data['+DM'].rolling(window=window).sum() / data['true_range'].rolling(window=window).sum())\n",
    "    data['-DI'] = 100 * (data['-DM'].rolling(window=window).sum() / data['true_range'].rolling(window=window).sum())\n",
    "\n",
    "    adx = 100 * (abs(data['+DI'] - data['-DI']) / (data['+DI'] + data['-DI'])).rolling(window=window).mean()\n",
    "    return adx\n",
    "\n",
    "# Load your dataset\n",
    "data = pd.read_csv('Untitled Folder/NSE50.csv')  # Path to your dataset\n",
    "data['ADX'] = compute_adx(data)\n",
    "\n",
    "# Display the last few rows to check the output\n",
    "print(data[['Date', 'Close', 'ADX']].tail())\n"
   ]
  },
  {
   "cell_type": "markdown",
   "metadata": {
    "id": "K4RJSgDMlNCo"
   },
   "source": [
    "### Rate of Change (ROC)"
   ]
  },
  {
   "cell_type": "code",
   "execution_count": null,
   "metadata": {
    "id": "Y_DuoI9ElMsR"
   },
   "outputs": [],
   "source": [
    "import pandas as pd\n",
    "\n",
    "# Function to compute Rate of Change (ROC)\n",
    "def compute_roc(data, window=14):\n",
    "    return (data['Close'].diff(window) / data['Close'].shift(window)) * 100\n",
    "\n",
    "# Load your dataset\n",
    "data = pd.read_csv('/content/NSE50.csv')  # Path to your dataset\n",
    "data['ROC'] = compute_roc(data)\n",
    "\n",
    "# Display the last few rows to check the output\n",
    "print(data[['Date', 'Close', 'ROC']].tail())\n"
   ]
  },
  {
   "cell_type": "markdown",
   "metadata": {
    "id": "HAHEHTailP69"
   },
   "source": [
    "### Chaikin Money Flow (CMF)\n"
   ]
  },
  {
   "cell_type": "code",
   "execution_count": 43,
   "metadata": {
    "id": "WkPCemVulHlV"
   },
   "outputs": [
    {
     "name": "stdout",
     "output_type": "stream",
     "text": [
      "            Date         Close       CMF\n",
      "2448  2023-12-22  21349.400391  0.444308\n",
      "2449  2023-12-26  21441.349609  0.461930\n",
      "2450  2023-12-27  21654.750000  0.471849\n",
      "2451  2023-12-28  21778.699219  0.466108\n",
      "2452  2023-12-29  21731.400391  0.438867\n"
     ]
    }
   ],
   "source": [
    "import pandas as pd\n",
    "\n",
    "# Function to compute Chaikin Money Flow (CMF)\n",
    "def compute_cmf(data, window=20):\n",
    "    data['mfv'] = (data['Close'] - data['Low'] - (data['High'] - data['Close'])) / (data['High'] - data['Low']) * data['Volume']\n",
    "    return data['mfv'].rolling(window=window).sum() / data['Volume'].rolling(window=window).sum()\n",
    "\n",
    "# Load your dataset\n",
    "data = pd.read_csv('Untitled Folder/NSE50.csv')  # Path to your dataset\n",
    "data['CMF'] = compute_cmf(data)\n",
    "\n",
    "# Display the last few rows to check the output\n",
    "print(data[['Date', 'Close', 'CMF']].tail())\n"
   ]
  },
  {
   "cell_type": "markdown",
   "metadata": {
    "id": "rkmuJdiYlTl_"
   },
   "source": [
    "### Commodity Channel Index (CCI)"
   ]
  },
  {
   "cell_type": "code",
   "execution_count": 45,
   "metadata": {
    "id": "HzkscHlolWjD"
   },
   "outputs": [
    {
     "name": "stdout",
     "output_type": "stream",
     "text": [
      "            Date         Close        CCI\n",
      "2448  2023-12-22  21349.400391  47.323708\n",
      "2449  2023-12-26  21441.349609  47.748950\n",
      "2450  2023-12-27  21654.750000  56.422932\n",
      "2451  2023-12-28  21778.699219  60.972187\n",
      "2452  2023-12-29  21731.400391  51.168490\n"
     ]
    }
   ],
   "source": [
    "import pandas as pd\n",
    "\n",
    "# Function to compute Commodity Channel Index (CCI)\n",
    "def compute_cci(data, window=20):\n",
    "    typical_price = (data['High'] + data['Low'] + data['Close']) / 3\n",
    "    sma = typical_price.rolling(window=window).mean()\n",
    "    mean_deviation = (typical_price - sma).abs().rolling(window=window).mean()\n",
    "    return (typical_price - sma) / (0.015 * mean_deviation)\n",
    "\n",
    "# Load your dataset\n",
    "data = pd.read_csv('Untitled Folder/NSE50.csv')  # Path to your dataset\n",
    "data['CCI'] = compute_cci(data)\n",
    "\n",
    "# Display the last few rows to check the output\n",
    "print(data[['Date', 'Close', 'CCI']].tail())\n"
   ]
  },
  {
   "cell_type": "markdown",
   "metadata": {
    "id": "BNsdxAAClZL7"
   },
   "source": [
    "### On-Balance Volume (OBV)\n"
   ]
  },
  {
   "cell_type": "code",
   "execution_count": null,
   "metadata": {
    "id": "NWFscAb6lclc"
   },
   "outputs": [],
   "source": [
    "import pandas as pd\n",
    "\n",
    "# Function to compute On-Balance Volume (OBV)\n",
    "def compute_obv(data):\n",
    "    obv = [0]  # Start OBV with 0\n",
    "    for i in range(1, len(data)):\n",
    "        if data['Close'].iloc[i] > data['Close'].iloc[i - 1]:\n",
    "            obv.append(obv[-1] + data['Volume'].iloc[i])\n",
    "        elif data['Close'].iloc[i] < data['Close'].iloc[i - 1]:\n",
    "            obv.append(obv[-1] - data['Volume'].iloc[i])\n",
    "        else:\n",
    "            obv.append(obv[-1])\n",
    "    return obv\n",
    "\n",
    "# Load your dataset\n",
    "data = pd.read_csv('/content/NSE50.csv')  # Path to your dataset\n",
    "data['OBV'] = compute_obv(data)\n",
    "\n",
    "# Display the last few rows to check the output\n",
    "print(data[['Date', 'Close', 'OBV']].tail())\n"
   ]
  },
  {
   "cell_type": "markdown",
   "metadata": {
    "id": "zzej0WWole30"
   },
   "source": [
    "### Momentum Indicator"
   ]
  },
  {
   "cell_type": "code",
   "execution_count": null,
   "metadata": {
    "id": "YaJtL3sXleTs"
   },
   "outputs": [],
   "source": [
    "import pandas as pd\n",
    "\n",
    "# Function to compute Momentum Indicator\n",
    "def compute_momentum(data, window=10):\n",
    "    return data['Close'].diff(window)\n",
    "\n",
    "# Load your dataset\n",
    "data = pd.read_csv('/content/NSE50.csv')  # Path to your dataset\n",
    "data['Momentum'] = compute_momentum(data)\n",
    "\n",
    "# Display the last few rows to check the output\n",
    "print(data[['Date', 'Close', 'Momentum']].tail())\n"
   ]
  },
  {
   "cell_type": "code",
   "execution_count": null,
   "metadata": {
    "id": "aCH2vFiNpspO"
   },
   "outputs": [],
   "source": [
    "# Save the updated DataFrame to a new CSV file\n",
    "data.to_csv('/content/NSE50_with_indicators.csv', index=False)\n"
   ]
  },
  {
   "cell_type": "code",
   "execution_count": null,
   "metadata": {
    "id": "qpNPVQfxqOss"
   },
   "outputs": [],
   "source": [
    "import pandas as pd\n",
    "\n",
    "# Load your initial dataset\n",
    "data = pd.read_csv('/content/NSE50.csv')\n",
    "\n",
    "# Compute indicators (make sure you include all your indicator functions here)\n",
    "data['RSI'] = compute_rsi(data)  # Example function, repeat for all indicators\n",
    "data['MACD'], data['Signal'] = compute_macd(data)  # Example function\n",
    "data['Stoch_K'], data['Stoch_D'] = compute_stochastic(data)  # Example function\n",
    "data['Williams_R'] = compute_williams(data)  # Example function\n",
    "data['ADX'] = compute_adx(data)  # Example function\n",
    "data['ROC'] = compute_roc(data)  # Example function\n",
    "data['CMF'] = compute_cmf(data)  # Example function\n",
    "data['CCI'] = compute_cci(data)  # Example function\n",
    "data['OBV'] = compute_obv(data)  # Example function\n",
    "data['Momentum'] = compute_momentum(data)  # Example function\n",
    "\n",
    "# Save the updated DataFrame to a new CSV file\n",
    "data.to_csv('/content/NSE50_with_indicators.csv', index=False)\n"
   ]
  },
  {
   "cell_type": "markdown",
   "metadata": {
    "id": "ojuayoV8iXQk"
   },
   "source": [
    "# LSTM Model"
   ]
  },
  {
   "cell_type": "code",
   "execution_count": null,
   "metadata": {
    "id": "fSHvYq2riQLe"
   },
   "outputs": [],
   "source": [
    "from tensorflow.keras.models import Sequential\n",
    "from tensorflow.keras.layers import LSTM, Dense, Dropout\n",
    "from sklearn.model_selection import train_test_split\n"
   ]
  },
  {
   "cell_type": "code",
   "execution_count": null,
   "metadata": {
    "colab": {
     "base_uri": "https://localhost:8080/"
    },
    "id": "nHGnB-hsiUbu",
    "outputId": "d7178b96-19d2-4d05-fb39-d32d9585dd6b"
   },
   "outputs": [
    {
     "name": "stdout",
     "output_type": "stream",
     "text": [
      "Training data shape: (1950, 14, 1), Testing data shape: (488, 14, 1)\n"
     ]
    }
   ],
   "source": [
    "# Split the dataset into training and testing sets\n",
    "X_train, X_test, y_train, y_test = train_test_split(X, y, test_size=0.2, random_state=42)\n",
    "\n",
    "print(f'Training data shape: {X_train.shape}, Testing data shape: {X_test.shape}')\n"
   ]
  },
  {
   "cell_type": "code",
   "execution_count": null,
   "metadata": {
    "colab": {
     "base_uri": "https://localhost:8080/"
    },
    "id": "2W3m6Ir9iVMf",
    "outputId": "201fa97d-a495-4922-fe47-b7473ee018d6"
   },
   "outputs": [
    {
     "name": "stderr",
     "output_type": "stream",
     "text": [
      "/usr/local/lib/python3.10/dist-packages/keras/src/layers/rnn/rnn.py:204: UserWarning: Do not pass an `input_shape`/`input_dim` argument to a layer. When using Sequential models, prefer using an `Input(shape)` object as the first layer in the model instead.\n",
      "  super().__init__(**kwargs)\n"
     ]
    }
   ],
   "source": [
    "model = Sequential()\n",
    "model.add(LSTM(units=50, return_sequences=True, input_shape=(X_train.shape[1], X_train.shape[2])))\n",
    "model.add(Dropout(0.2))  # Adding dropout for regularization\n",
    "model.add(LSTM(units=50, return_sequences=False))\n",
    "model.add(Dropout(0.2))\n",
    "model.add(Dense(units=1))  # Output layer for prediction\n",
    "\n",
    "model.compile(optimizer='adam', loss='mean_squared_error')\n"
   ]
  },
  {
   "cell_type": "code",
   "execution_count": null,
   "metadata": {
    "colab": {
     "base_uri": "https://localhost:8080/"
    },
    "id": "SWh4X8SVicmQ",
    "outputId": "5c17e3aa-35b3-4e20-a2c6-6444f58edc2b"
   },
   "outputs": [
    {
     "name": "stdout",
     "output_type": "stream",
     "text": [
      "Epoch 1/100\n",
      "\u001b[1m61/61\u001b[0m \u001b[32m━━━━━━━━━━━━━━━━━━━━\u001b[0m\u001b[37m\u001b[0m \u001b[1m9s\u001b[0m 37ms/step - loss: 0.0999 - val_loss: 0.0339\n",
      "Epoch 2/100\n",
      "\u001b[1m61/61\u001b[0m \u001b[32m━━━━━━━━━━━━━━━━━━━━\u001b[0m\u001b[37m\u001b[0m \u001b[1m1s\u001b[0m 13ms/step - loss: 0.0386 - val_loss: 0.0338\n",
      "Epoch 3/100\n",
      "\u001b[1m61/61\u001b[0m \u001b[32m━━━━━━━━━━━━━━━━━━━━\u001b[0m\u001b[37m\u001b[0m \u001b[1m2s\u001b[0m 17ms/step - loss: 0.0377 - val_loss: 0.0360\n",
      "Epoch 4/100\n",
      "\u001b[1m61/61\u001b[0m \u001b[32m━━━━━━━━━━━━━━━━━━━━\u001b[0m\u001b[37m\u001b[0m \u001b[1m1s\u001b[0m 13ms/step - loss: 0.0374 - val_loss: 0.0335\n",
      "Epoch 5/100\n",
      "\u001b[1m61/61\u001b[0m \u001b[32m━━━━━━━━━━━━━━━━━━━━\u001b[0m\u001b[37m\u001b[0m \u001b[1m1s\u001b[0m 10ms/step - loss: 0.0376 - val_loss: 0.0362\n",
      "Epoch 6/100\n",
      "\u001b[1m61/61\u001b[0m \u001b[32m━━━━━━━━━━━━━━━━━━━━\u001b[0m\u001b[37m\u001b[0m \u001b[1m1s\u001b[0m 6ms/step - loss: 0.0411 - val_loss: 0.0336\n",
      "Epoch 7/100\n",
      "\u001b[1m61/61\u001b[0m \u001b[32m━━━━━━━━━━━━━━━━━━━━\u001b[0m\u001b[37m\u001b[0m \u001b[1m1s\u001b[0m 6ms/step - loss: 0.0381 - val_loss: 0.0349\n",
      "Epoch 8/100\n",
      "\u001b[1m61/61\u001b[0m \u001b[32m━━━━━━━━━━━━━━━━━━━━\u001b[0m\u001b[37m\u001b[0m \u001b[1m1s\u001b[0m 7ms/step - loss: 0.0357 - val_loss: 0.0333\n",
      "Epoch 9/100\n",
      "\u001b[1m61/61\u001b[0m \u001b[32m━━━━━━━━━━━━━━━━━━━━\u001b[0m\u001b[37m\u001b[0m \u001b[1m0s\u001b[0m 6ms/step - loss: 0.0367 - val_loss: 0.0332\n",
      "Epoch 10/100\n",
      "\u001b[1m61/61\u001b[0m \u001b[32m━━━━━━━━━━━━━━━━━━━━\u001b[0m\u001b[37m\u001b[0m \u001b[1m1s\u001b[0m 7ms/step - loss: 0.0378 - val_loss: 0.0339\n",
      "Epoch 11/100\n",
      "\u001b[1m61/61\u001b[0m \u001b[32m━━━━━━━━━━━━━━━━━━━━\u001b[0m\u001b[37m\u001b[0m \u001b[1m0s\u001b[0m 7ms/step - loss: 0.0362 - val_loss: 0.0329\n",
      "Epoch 12/100\n",
      "\u001b[1m61/61\u001b[0m \u001b[32m━━━━━━━━━━━━━━━━━━━━\u001b[0m\u001b[37m\u001b[0m \u001b[1m0s\u001b[0m 6ms/step - loss: 0.0371 - val_loss: 0.0359\n",
      "Epoch 13/100\n",
      "\u001b[1m61/61\u001b[0m \u001b[32m━━━━━━━━━━━━━━━━━━━━\u001b[0m\u001b[37m\u001b[0m \u001b[1m1s\u001b[0m 6ms/step - loss: 0.0392 - val_loss: 0.0328\n",
      "Epoch 14/100\n",
      "\u001b[1m61/61\u001b[0m \u001b[32m━━━━━━━━━━━━━━━━━━━━\u001b[0m\u001b[37m\u001b[0m \u001b[1m1s\u001b[0m 7ms/step - loss: 0.0366 - val_loss: 0.0344\n",
      "Epoch 15/100\n",
      "\u001b[1m61/61\u001b[0m \u001b[32m━━━━━━━━━━━━━━━━━━━━\u001b[0m\u001b[37m\u001b[0m \u001b[1m0s\u001b[0m 6ms/step - loss: 0.0374 - val_loss: 0.0328\n",
      "Epoch 16/100\n",
      "\u001b[1m61/61\u001b[0m \u001b[32m━━━━━━━━━━━━━━━━━━━━\u001b[0m\u001b[37m\u001b[0m \u001b[1m0s\u001b[0m 6ms/step - loss: 0.0373 - val_loss: 0.0332\n",
      "Epoch 17/100\n",
      "\u001b[1m61/61\u001b[0m \u001b[32m━━━━━━━━━━━━━━━━━━━━\u001b[0m\u001b[37m\u001b[0m \u001b[1m0s\u001b[0m 6ms/step - loss: 0.0354 - val_loss: 0.0323\n",
      "Epoch 18/100\n",
      "\u001b[1m61/61\u001b[0m \u001b[32m━━━━━━━━━━━━━━━━━━━━\u001b[0m\u001b[37m\u001b[0m \u001b[1m0s\u001b[0m 7ms/step - loss: 0.0354 - val_loss: 0.0333\n",
      "Epoch 19/100\n",
      "\u001b[1m61/61\u001b[0m \u001b[32m━━━━━━━━━━━━━━━━━━━━\u001b[0m\u001b[37m\u001b[0m \u001b[1m1s\u001b[0m 6ms/step - loss: 0.0354 - val_loss: 0.0319\n",
      "Epoch 20/100\n",
      "\u001b[1m61/61\u001b[0m \u001b[32m━━━━━━━━━━━━━━━━━━━━\u001b[0m\u001b[37m\u001b[0m \u001b[1m1s\u001b[0m 7ms/step - loss: 0.0355 - val_loss: 0.0316\n",
      "Epoch 21/100\n",
      "\u001b[1m61/61\u001b[0m \u001b[32m━━━━━━━━━━━━━━━━━━━━\u001b[0m\u001b[37m\u001b[0m \u001b[1m1s\u001b[0m 7ms/step - loss: 0.0349 - val_loss: 0.0314\n",
      "Epoch 22/100\n",
      "\u001b[1m61/61\u001b[0m \u001b[32m━━━━━━━━━━━━━━━━━━━━\u001b[0m\u001b[37m\u001b[0m \u001b[1m0s\u001b[0m 7ms/step - loss: 0.0331 - val_loss: 0.0299\n",
      "Epoch 23/100\n",
      "\u001b[1m61/61\u001b[0m \u001b[32m━━━━━━━━━━━━━━━━━━━━\u001b[0m\u001b[37m\u001b[0m \u001b[1m0s\u001b[0m 7ms/step - loss: 0.0326 - val_loss: 0.0293\n",
      "Epoch 24/100\n",
      "\u001b[1m61/61\u001b[0m \u001b[32m━━━━━━━━━━━━━━━━━━━━\u001b[0m\u001b[37m\u001b[0m \u001b[1m0s\u001b[0m 7ms/step - loss: 0.0338 - val_loss: 0.0287\n",
      "Epoch 25/100\n",
      "\u001b[1m61/61\u001b[0m \u001b[32m━━━━━━━━━━━━━━━━━━━━\u001b[0m\u001b[37m\u001b[0m \u001b[1m1s\u001b[0m 10ms/step - loss: 0.0298 - val_loss: 0.0260\n",
      "Epoch 26/100\n",
      "\u001b[1m61/61\u001b[0m \u001b[32m━━━━━━━━━━━━━━━━━━━━\u001b[0m\u001b[37m\u001b[0m \u001b[1m1s\u001b[0m 10ms/step - loss: 0.0290 - val_loss: 0.0264\n",
      "Epoch 27/100\n",
      "\u001b[1m61/61\u001b[0m \u001b[32m━━━━━━━━━━━━━━━━━━━━\u001b[0m\u001b[37m\u001b[0m \u001b[1m1s\u001b[0m 11ms/step - loss: 0.0299 - val_loss: 0.0294\n",
      "Epoch 28/100\n",
      "\u001b[1m61/61\u001b[0m \u001b[32m━━━━━━━━━━━━━━━━━━━━\u001b[0m\u001b[37m\u001b[0m \u001b[1m1s\u001b[0m 7ms/step - loss: 0.0295 - val_loss: 0.0246\n",
      "Epoch 29/100\n",
      "\u001b[1m61/61\u001b[0m \u001b[32m━━━━━━━━━━━━━━━━━━━━\u001b[0m\u001b[37m\u001b[0m \u001b[1m1s\u001b[0m 6ms/step - loss: 0.0267 - val_loss: 0.0249\n",
      "Epoch 30/100\n",
      "\u001b[1m61/61\u001b[0m \u001b[32m━━━━━━━━━━━━━━━━━━━━\u001b[0m\u001b[37m\u001b[0m \u001b[1m1s\u001b[0m 6ms/step - loss: 0.0255 - val_loss: 0.0233\n",
      "Epoch 31/100\n",
      "\u001b[1m61/61\u001b[0m \u001b[32m━━━━━━━━━━━━━━━━━━━━\u001b[0m\u001b[37m\u001b[0m \u001b[1m1s\u001b[0m 7ms/step - loss: 0.0267 - val_loss: 0.0236\n",
      "Epoch 32/100\n",
      "\u001b[1m61/61\u001b[0m \u001b[32m━━━━━━━━━━━━━━━━━━━━\u001b[0m\u001b[37m\u001b[0m \u001b[1m1s\u001b[0m 7ms/step - loss: 0.0217 - val_loss: 0.0301\n",
      "Epoch 33/100\n",
      "\u001b[1m61/61\u001b[0m \u001b[32m━━━━━━━━━━━━━━━━━━━━\u001b[0m\u001b[37m\u001b[0m \u001b[1m1s\u001b[0m 7ms/step - loss: 0.0222 - val_loss: 0.0194\n",
      "Epoch 34/100\n",
      "\u001b[1m61/61\u001b[0m \u001b[32m━━━━━━━━━━━━━━━━━━━━\u001b[0m\u001b[37m\u001b[0m \u001b[1m0s\u001b[0m 6ms/step - loss: 0.0213 - val_loss: 0.0185\n",
      "Epoch 35/100\n",
      "\u001b[1m61/61\u001b[0m \u001b[32m━━━━━━━━━━━━━━━━━━━━\u001b[0m\u001b[37m\u001b[0m \u001b[1m0s\u001b[0m 7ms/step - loss: 0.0219 - val_loss: 0.0180\n",
      "Epoch 36/100\n",
      "\u001b[1m61/61\u001b[0m \u001b[32m━━━━━━━━━━━━━━━━━━━━\u001b[0m\u001b[37m\u001b[0m \u001b[1m1s\u001b[0m 7ms/step - loss: 0.0198 - val_loss: 0.0162\n",
      "Epoch 37/100\n",
      "\u001b[1m61/61\u001b[0m \u001b[32m━━━━━━━━━━━━━━━━━━━━\u001b[0m\u001b[37m\u001b[0m \u001b[1m0s\u001b[0m 7ms/step - loss: 0.0195 - val_loss: 0.0154\n",
      "Epoch 38/100\n",
      "\u001b[1m61/61\u001b[0m \u001b[32m━━━━━━━━━━━━━━━━━━━━\u001b[0m\u001b[37m\u001b[0m \u001b[1m1s\u001b[0m 6ms/step - loss: 0.0201 - val_loss: 0.0177\n",
      "Epoch 39/100\n",
      "\u001b[1m61/61\u001b[0m \u001b[32m━━━━━━━━━━━━━━━━━━━━\u001b[0m\u001b[37m\u001b[0m \u001b[1m1s\u001b[0m 6ms/step - loss: 0.0209 - val_loss: 0.0172\n",
      "Epoch 40/100\n",
      "\u001b[1m61/61\u001b[0m \u001b[32m━━━━━━━━━━━━━━━━━━━━\u001b[0m\u001b[37m\u001b[0m \u001b[1m0s\u001b[0m 7ms/step - loss: 0.0188 - val_loss: 0.0167\n",
      "Epoch 41/100\n",
      "\u001b[1m61/61\u001b[0m \u001b[32m━━━━━━━━━━━━━━━━━━━━\u001b[0m\u001b[37m\u001b[0m \u001b[1m0s\u001b[0m 7ms/step - loss: 0.0201 - val_loss: 0.0159\n",
      "Epoch 42/100\n",
      "\u001b[1m61/61\u001b[0m \u001b[32m━━━━━━━━━━━━━━━━━━━━\u001b[0m\u001b[37m\u001b[0m \u001b[1m1s\u001b[0m 7ms/step - loss: 0.0191 - val_loss: 0.0165\n",
      "Epoch 43/100\n",
      "\u001b[1m61/61\u001b[0m \u001b[32m━━━━━━━━━━━━━━━━━━━━\u001b[0m\u001b[37m\u001b[0m \u001b[1m1s\u001b[0m 7ms/step - loss: 0.0207 - val_loss: 0.0176\n",
      "Epoch 44/100\n",
      "\u001b[1m61/61\u001b[0m \u001b[32m━━━━━━━━━━━━━━━━━━━━\u001b[0m\u001b[37m\u001b[0m \u001b[1m0s\u001b[0m 7ms/step - loss: 0.0190 - val_loss: 0.0206\n",
      "Epoch 45/100\n",
      "\u001b[1m61/61\u001b[0m \u001b[32m━━━━━━━━━━━━━━━━━━━━\u001b[0m\u001b[37m\u001b[0m \u001b[1m1s\u001b[0m 8ms/step - loss: 0.0194 - val_loss: 0.0170\n",
      "Epoch 46/100\n",
      "\u001b[1m61/61\u001b[0m \u001b[32m━━━━━━━━━━━━━━━━━━━━\u001b[0m\u001b[37m\u001b[0m \u001b[1m1s\u001b[0m 10ms/step - loss: 0.0188 - val_loss: 0.0164\n",
      "Epoch 47/100\n",
      "\u001b[1m61/61\u001b[0m \u001b[32m━━━━━━━━━━━━━━━━━━━━\u001b[0m\u001b[37m\u001b[0m \u001b[1m1s\u001b[0m 9ms/step - loss: 0.0182 - val_loss: 0.0158\n",
      "Epoch 48/100\n",
      "\u001b[1m61/61\u001b[0m \u001b[32m━━━━━━━━━━━━━━━━━━━━\u001b[0m\u001b[37m\u001b[0m \u001b[1m1s\u001b[0m 10ms/step - loss: 0.0184 - val_loss: 0.0190\n",
      "Epoch 49/100\n",
      "\u001b[1m61/61\u001b[0m \u001b[32m━━━━━━━━━━━━━━━━━━━━\u001b[0m\u001b[37m\u001b[0m \u001b[1m1s\u001b[0m 6ms/step - loss: 0.0195 - val_loss: 0.0174\n",
      "Epoch 50/100\n",
      "\u001b[1m61/61\u001b[0m \u001b[32m━━━━━━━━━━━━━━━━━━━━\u001b[0m\u001b[37m\u001b[0m \u001b[1m0s\u001b[0m 7ms/step - loss: 0.0187 - val_loss: 0.0152\n",
      "Epoch 51/100\n",
      "\u001b[1m61/61\u001b[0m \u001b[32m━━━━━━━━━━━━━━━━━━━━\u001b[0m\u001b[37m\u001b[0m \u001b[1m0s\u001b[0m 6ms/step - loss: 0.0179 - val_loss: 0.0154\n",
      "Epoch 52/100\n",
      "\u001b[1m61/61\u001b[0m \u001b[32m━━━━━━━━━━━━━━━━━━━━\u001b[0m\u001b[37m\u001b[0m \u001b[1m0s\u001b[0m 7ms/step - loss: 0.0180 - val_loss: 0.0183\n",
      "Epoch 53/100\n",
      "\u001b[1m61/61\u001b[0m \u001b[32m━━━━━━━━━━━━━━━━━━━━\u001b[0m\u001b[37m\u001b[0m \u001b[1m0s\u001b[0m 7ms/step - loss: 0.0194 - val_loss: 0.0155\n",
      "Epoch 54/100\n",
      "\u001b[1m61/61\u001b[0m \u001b[32m━━━━━━━━━━━━━━━━━━━━\u001b[0m\u001b[37m\u001b[0m \u001b[1m1s\u001b[0m 7ms/step - loss: 0.0178 - val_loss: 0.0166\n",
      "Epoch 55/100\n",
      "\u001b[1m61/61\u001b[0m \u001b[32m━━━━━━━━━━━━━━━━━━━━\u001b[0m\u001b[37m\u001b[0m \u001b[1m0s\u001b[0m 7ms/step - loss: 0.0178 - val_loss: 0.0163\n",
      "Epoch 56/100\n",
      "\u001b[1m61/61\u001b[0m \u001b[32m━━━━━━━━━━━━━━━━━━━━\u001b[0m\u001b[37m\u001b[0m \u001b[1m1s\u001b[0m 7ms/step - loss: 0.0190 - val_loss: 0.0171\n",
      "Epoch 57/100\n",
      "\u001b[1m61/61\u001b[0m \u001b[32m━━━━━━━━━━━━━━━━━━━━\u001b[0m\u001b[37m\u001b[0m \u001b[1m0s\u001b[0m 7ms/step - loss: 0.0201 - val_loss: 0.0179\n",
      "Epoch 58/100\n",
      "\u001b[1m61/61\u001b[0m \u001b[32m━━━━━━━━━━━━━━━━━━━━\u001b[0m\u001b[37m\u001b[0m \u001b[1m0s\u001b[0m 7ms/step - loss: 0.0189 - val_loss: 0.0154\n",
      "Epoch 59/100\n",
      "\u001b[1m61/61\u001b[0m \u001b[32m━━━━━━━━━━━━━━━━━━━━\u001b[0m\u001b[37m\u001b[0m \u001b[1m1s\u001b[0m 6ms/step - loss: 0.0187 - val_loss: 0.0160\n",
      "Epoch 60/100\n",
      "\u001b[1m61/61\u001b[0m \u001b[32m━━━━━━━━━━━━━━━━━━━━\u001b[0m\u001b[37m\u001b[0m \u001b[1m1s\u001b[0m 6ms/step - loss: 0.0179 - val_loss: 0.0154\n",
      "Epoch 61/100\n",
      "\u001b[1m61/61\u001b[0m \u001b[32m━━━━━━━━━━━━━━━━━━━━\u001b[0m\u001b[37m\u001b[0m \u001b[1m1s\u001b[0m 7ms/step - loss: 0.0171 - val_loss: 0.0181\n",
      "Epoch 62/100\n",
      "\u001b[1m61/61\u001b[0m \u001b[32m━━━━━━━━━━━━━━━━━━━━\u001b[0m\u001b[37m\u001b[0m \u001b[1m1s\u001b[0m 7ms/step - loss: 0.0178 - val_loss: 0.0148\n",
      "Epoch 63/100\n",
      "\u001b[1m61/61\u001b[0m \u001b[32m━━━━━━━━━━━━━━━━━━━━\u001b[0m\u001b[37m\u001b[0m \u001b[1m1s\u001b[0m 6ms/step - loss: 0.0166 - val_loss: 0.0146\n",
      "Epoch 64/100\n",
      "\u001b[1m61/61\u001b[0m \u001b[32m━━━━━━━━━━━━━━━━━━━━\u001b[0m\u001b[37m\u001b[0m \u001b[1m0s\u001b[0m 6ms/step - loss: 0.0173 - val_loss: 0.0159\n",
      "Epoch 65/100\n",
      "\u001b[1m61/61\u001b[0m \u001b[32m━━━━━━━━━━━━━━━━━━━━\u001b[0m\u001b[37m\u001b[0m \u001b[1m1s\u001b[0m 7ms/step - loss: 0.0166 - val_loss: 0.0149\n",
      "Epoch 66/100\n",
      "\u001b[1m61/61\u001b[0m \u001b[32m━━━━━━━━━━━━━━━━━━━━\u001b[0m\u001b[37m\u001b[0m \u001b[1m1s\u001b[0m 6ms/step - loss: 0.0173 - val_loss: 0.0185\n",
      "Epoch 67/100\n",
      "\u001b[1m61/61\u001b[0m \u001b[32m━━━━━━━━━━━━━━━━━━━━\u001b[0m\u001b[37m\u001b[0m \u001b[1m0s\u001b[0m 7ms/step - loss: 0.0183 - val_loss: 0.0145\n",
      "Epoch 68/100\n",
      "\u001b[1m61/61\u001b[0m \u001b[32m━━━━━━━━━━━━━━━━━━━━\u001b[0m\u001b[37m\u001b[0m \u001b[1m1s\u001b[0m 9ms/step - loss: 0.0170 - val_loss: 0.0149\n",
      "Epoch 69/100\n",
      "\u001b[1m61/61\u001b[0m \u001b[32m━━━━━━━━━━━━━━━━━━━━\u001b[0m\u001b[37m\u001b[0m \u001b[1m1s\u001b[0m 10ms/step - loss: 0.0161 - val_loss: 0.0181\n",
      "Epoch 70/100\n",
      "\u001b[1m61/61\u001b[0m \u001b[32m━━━━━━━━━━━━━━━━━━━━\u001b[0m\u001b[37m\u001b[0m \u001b[1m1s\u001b[0m 6ms/step - loss: 0.0181 - val_loss: 0.0160\n",
      "Epoch 71/100\n",
      "\u001b[1m61/61\u001b[0m \u001b[32m━━━━━━━━━━━━━━━━━━━━\u001b[0m\u001b[37m\u001b[0m \u001b[1m0s\u001b[0m 6ms/step - loss: 0.0160 - val_loss: 0.0147\n",
      "Epoch 72/100\n",
      "\u001b[1m61/61\u001b[0m \u001b[32m━━━━━━━━━━━━━━━━━━━━\u001b[0m\u001b[37m\u001b[0m \u001b[1m1s\u001b[0m 6ms/step - loss: 0.0170 - val_loss: 0.0142\n",
      "Epoch 73/100\n",
      "\u001b[1m61/61\u001b[0m \u001b[32m━━━━━━━━━━━━━━━━━━━━\u001b[0m\u001b[37m\u001b[0m \u001b[1m0s\u001b[0m 7ms/step - loss: 0.0165 - val_loss: 0.0144\n",
      "Epoch 74/100\n",
      "\u001b[1m61/61\u001b[0m \u001b[32m━━━━━━━━━━━━━━━━━━━━\u001b[0m\u001b[37m\u001b[0m \u001b[1m1s\u001b[0m 6ms/step - loss: 0.0174 - val_loss: 0.0204\n",
      "Epoch 75/100\n",
      "\u001b[1m61/61\u001b[0m \u001b[32m━━━━━━━━━━━━━━━━━━━━\u001b[0m\u001b[37m\u001b[0m \u001b[1m0s\u001b[0m 7ms/step - loss: 0.0198 - val_loss: 0.0153\n",
      "Epoch 76/100\n",
      "\u001b[1m61/61\u001b[0m \u001b[32m━━━━━━━━━━━━━━━━━━━━\u001b[0m\u001b[37m\u001b[0m \u001b[1m1s\u001b[0m 6ms/step - loss: 0.0176 - val_loss: 0.0147\n",
      "Epoch 77/100\n",
      "\u001b[1m61/61\u001b[0m \u001b[32m━━━━━━━━━━━━━━━━━━━━\u001b[0m\u001b[37m\u001b[0m \u001b[1m0s\u001b[0m 7ms/step - loss: 0.0167 - val_loss: 0.0150\n",
      "Epoch 78/100\n",
      "\u001b[1m61/61\u001b[0m \u001b[32m━━━━━━━━━━━━━━━━━━━━\u001b[0m\u001b[37m\u001b[0m \u001b[1m0s\u001b[0m 6ms/step - loss: 0.0160 - val_loss: 0.0152\n",
      "Epoch 79/100\n",
      "\u001b[1m61/61\u001b[0m \u001b[32m━━━━━━━━━━━━━━━━━━━━\u001b[0m\u001b[37m\u001b[0m \u001b[1m0s\u001b[0m 7ms/step - loss: 0.0171 - val_loss: 0.0151\n",
      "Epoch 80/100\n",
      "\u001b[1m61/61\u001b[0m \u001b[32m━━━━━━━━━━━━━━━━━━━━\u001b[0m\u001b[37m\u001b[0m \u001b[1m1s\u001b[0m 7ms/step - loss: 0.0162 - val_loss: 0.0149\n",
      "Epoch 81/100\n",
      "\u001b[1m61/61\u001b[0m \u001b[32m━━━━━━━━━━━━━━━━━━━━\u001b[0m\u001b[37m\u001b[0m \u001b[1m0s\u001b[0m 7ms/step - loss: 0.0160 - val_loss: 0.0138\n",
      "Epoch 82/100\n",
      "\u001b[1m61/61\u001b[0m \u001b[32m━━━━━━━━━━━━━━━━━━━━\u001b[0m\u001b[37m\u001b[0m \u001b[1m0s\u001b[0m 7ms/step - loss: 0.0162 - val_loss: 0.0169\n",
      "Epoch 83/100\n",
      "\u001b[1m61/61\u001b[0m \u001b[32m━━━━━━━━━━━━━━━━━━━━\u001b[0m\u001b[37m\u001b[0m \u001b[1m1s\u001b[0m 7ms/step - loss: 0.0185 - val_loss: 0.0169\n",
      "Epoch 84/100\n",
      "\u001b[1m61/61\u001b[0m \u001b[32m━━━━━━━━━━━━━━━━━━━━\u001b[0m\u001b[37m\u001b[0m \u001b[1m0s\u001b[0m 6ms/step - loss: 0.0184 - val_loss: 0.0172\n",
      "Epoch 85/100\n",
      "\u001b[1m61/61\u001b[0m \u001b[32m━━━━━━━━━━━━━━━━━━━━\u001b[0m\u001b[37m\u001b[0m \u001b[1m1s\u001b[0m 6ms/step - loss: 0.0170 - val_loss: 0.0168\n",
      "Epoch 86/100\n",
      "\u001b[1m61/61\u001b[0m \u001b[32m━━━━━━━━━━━━━━━━━━━━\u001b[0m\u001b[37m\u001b[0m \u001b[1m1s\u001b[0m 6ms/step - loss: 0.0153 - val_loss: 0.0149\n",
      "Epoch 87/100\n",
      "\u001b[1m61/61\u001b[0m \u001b[32m━━━━━━━━━━━━━━━━━━━━\u001b[0m\u001b[37m\u001b[0m \u001b[1m1s\u001b[0m 7ms/step - loss: 0.0162 - val_loss: 0.0164\n",
      "Epoch 88/100\n",
      "\u001b[1m61/61\u001b[0m \u001b[32m━━━━━━━━━━━━━━━━━━━━\u001b[0m\u001b[37m\u001b[0m \u001b[1m1s\u001b[0m 6ms/step - loss: 0.0157 - val_loss: 0.0147\n",
      "Epoch 89/100\n",
      "\u001b[1m61/61\u001b[0m \u001b[32m━━━━━━━━━━━━━━━━━━━━\u001b[0m\u001b[37m\u001b[0m \u001b[1m1s\u001b[0m 9ms/step - loss: 0.0155 - val_loss: 0.0152\n",
      "Epoch 90/100\n",
      "\u001b[1m61/61\u001b[0m \u001b[32m━━━━━━━━━━━━━━━━━━━━\u001b[0m\u001b[37m\u001b[0m \u001b[1m1s\u001b[0m 10ms/step - loss: 0.0155 - val_loss: 0.0141\n",
      "Epoch 91/100\n",
      "\u001b[1m61/61\u001b[0m \u001b[32m━━━━━━━━━━━━━━━━━━━━\u001b[0m\u001b[37m\u001b[0m \u001b[1m1s\u001b[0m 10ms/step - loss: 0.0159 - val_loss: 0.0134\n",
      "Epoch 92/100\n",
      "\u001b[1m61/61\u001b[0m \u001b[32m━━━━━━━━━━━━━━━━━━━━\u001b[0m\u001b[37m\u001b[0m \u001b[1m1s\u001b[0m 7ms/step - loss: 0.0162 - val_loss: 0.0146\n",
      "Epoch 93/100\n",
      "\u001b[1m61/61\u001b[0m \u001b[32m━━━━━━━━━━━━━━━━━━━━\u001b[0m\u001b[37m\u001b[0m \u001b[1m0s\u001b[0m 7ms/step - loss: 0.0173 - val_loss: 0.0141\n",
      "Epoch 94/100\n",
      "\u001b[1m61/61\u001b[0m \u001b[32m━━━━━━━━━━━━━━━━━━━━\u001b[0m\u001b[37m\u001b[0m \u001b[1m0s\u001b[0m 7ms/step - loss: 0.0155 - val_loss: 0.0137\n",
      "Epoch 95/100\n",
      "\u001b[1m61/61\u001b[0m \u001b[32m━━━━━━━━━━━━━━━━━━━━\u001b[0m\u001b[37m\u001b[0m \u001b[1m0s\u001b[0m 6ms/step - loss: 0.0152 - val_loss: 0.0145\n",
      "Epoch 96/100\n",
      "\u001b[1m61/61\u001b[0m \u001b[32m━━━━━━━━━━━━━━━━━━━━\u001b[0m\u001b[37m\u001b[0m \u001b[1m1s\u001b[0m 6ms/step - loss: 0.0154 - val_loss: 0.0143\n",
      "Epoch 97/100\n",
      "\u001b[1m61/61\u001b[0m \u001b[32m━━━━━━━━━━━━━━━━━━━━\u001b[0m\u001b[37m\u001b[0m \u001b[1m0s\u001b[0m 7ms/step - loss: 0.0159 - val_loss: 0.0152\n",
      "Epoch 98/100\n",
      "\u001b[1m61/61\u001b[0m \u001b[32m━━━━━━━━━━━━━━━━━━━━\u001b[0m\u001b[37m\u001b[0m \u001b[1m0s\u001b[0m 7ms/step - loss: 0.0155 - val_loss: 0.0156\n",
      "Epoch 99/100\n",
      "\u001b[1m61/61\u001b[0m \u001b[32m━━━━━━━━━━━━━━━━━━━━\u001b[0m\u001b[37m\u001b[0m \u001b[1m1s\u001b[0m 7ms/step - loss: 0.0170 - val_loss: 0.0169\n",
      "Epoch 100/100\n",
      "\u001b[1m61/61\u001b[0m \u001b[32m━━━━━━━━━━━━━━━━━━━━\u001b[0m\u001b[37m\u001b[0m \u001b[1m0s\u001b[0m 7ms/step - loss: 0.0153 - val_loss: 0.0139\n"
     ]
    }
   ],
   "source": [
    "history = model.fit(X_train, y_train, epochs=100, batch_size=32, validation_data=(X_test, y_test), verbose=1)\n"
   ]
  },
  {
   "cell_type": "code",
   "execution_count": null,
   "metadata": {
    "colab": {
     "base_uri": "https://localhost:8080/"
    },
    "id": "pDtymslZiepZ",
    "outputId": "7a83ce40-0df7-488a-8ec9-3ad5a7e68330"
   },
   "outputs": [
    {
     "name": "stdout",
     "output_type": "stream",
     "text": [
      "\u001b[1m16/16\u001b[0m \u001b[32m━━━━━━━━━━━━━━━━━━━━\u001b[0m\u001b[37m\u001b[0m \u001b[1m0s\u001b[0m 12ms/step\n"
     ]
    }
   ],
   "source": [
    "# Predicting the test set results\n",
    "y_pred = model.predict(X_test)\n",
    "\n",
    "# Inverse scaling to get actual values\n",
    "y_pred_rescaled = scaler.inverse_transform(np.hstack((y_pred, np.zeros((y_pred.shape[0], 1)))))[:, 0]\n",
    "y_test_rescaled = scaler.inverse_transform(np.hstack((y_test.reshape(-1, 1), np.zeros((y_test.shape[0], 1)))))[:, 0]\n"
   ]
  },
  {
   "cell_type": "code",
   "execution_count": null,
   "metadata": {
    "colab": {
     "base_uri": "https://localhost:8080/",
     "height": 487
    },
    "id": "nOHlEx5fi6x-",
    "outputId": "8e588c7e-fc88-4dcc-de3d-47ffb6947ea0"
   },
   "outputs": [
    {
     "data": {
      "image/png": "[encoded data removed]",
      "text/plain": [
       "<Figure size 1400x500 with 1 Axes>"
      ]
     },
     "metadata": {},
     "output_type": "display_data"
    }
   ],
   "source": [
    "plt.figure(figsize=(14, 5))\n",
    "plt.plot(y_test_rescaled, color='red', label='Actual Price')\n",
    "plt.plot(y_pred_rescaled, color='blue', label='Predicted Price')\n",
    "plt.title('Nifty 50 Price Prediction')\n",
    "plt.xlabel('Time')\n",
    "plt.ylabel('Price')\n",
    "plt.legend()\n",
    "plt.show()\n"
   ]
  },
  {
   "cell_type": "markdown",
   "metadata": {
    "id": "Iien2uwQkFtc"
   },
   "source": []
  },
  {
   "cell_type": "code",
   "execution_count": null,
   "metadata": {
    "id": "lfTovfCRi7_Q"
   },
   "outputs": [],
   "source": []
  }
 ],
 "metadata": {
  "accelerator": "GPU",
  "colab": {
   "gpuType": "T4",
   "provenance": []
  },
  "kernelspec": {
   "display_name": "Python 3 (ipykernel)",
   "language": "python",
   "name": "python3"
  },
  "language_info": {
   "codemirror_mode": {
    "name": "ipython",
    "version": 3
   },
   "file_extension": ".py",
   "mimetype": "text/x-python",
   "name": "python",
   "nbconvert_exporter": "python",
   "pygments_lexer": "ipython3",
   "version": "3.12.4"
  }
 },
 "nbformat": 4,
 "nbformat_minor": 4
}
