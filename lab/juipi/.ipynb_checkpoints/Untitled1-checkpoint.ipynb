{
 "cells": [
  {
   "cell_type": "code",
   "execution_count": 1,
   "id": "00f95719-608a-474b-9ca4-731ab1513e03",
   "metadata": {},
   "outputs": [
    {
     "name": "stdout",
     "output_type": "stream",
     "text": [
      "Requirement already satisfied: pandas in c:\\users\\prana\\anaconda3\\lib\\site-packages (2.2.2)\n",
      "Requirement already satisfied: numpy in c:\\users\\prana\\anaconda3\\lib\\site-packages (1.26.4)\n",
      "Requirement already satisfied: matplotlib in c:\\users\\prana\\anaconda3\\lib\\site-packages (3.8.4)\n",
      "Requirement already satisfied: yfinance in c:\\users\\prana\\anaconda3\\lib\\site-packages (0.2.43)\n",
      "Requirement already satisfied: ta in c:\\users\\prana\\anaconda3\\lib\\site-packages (0.11.0)\n",
      "Requirement already satisfied: tensorflow in c:\\users\\prana\\anaconda3\\lib\\site-packages (2.17.0)\n",
      "Requirement already satisfied: python-dateutil>=2.8.2 in c:\\users\\prana\\anaconda3\\lib\\site-packages (from pandas) (2.9.0.post0)\n",
      "Requirement already satisfied: pytz>=2020.1 in c:\\users\\prana\\anaconda3\\lib\\site-packages (from pandas) (2024.1)\n",
      "Requirement already satisfied: tzdata>=2022.7 in c:\\users\\prana\\anaconda3\\lib\\site-packages (from pandas) (2023.3)\n",
      "Requirement already satisfied: contourpy>=1.0.1 in c:\\users\\prana\\anaconda3\\lib\\site-packages (from matplotlib) (1.2.0)\n",
      "Requirement already satisfied: cycler>=0.10 in c:\\users\\prana\\anaconda3\\lib\\site-packages (from matplotlib) (0.11.0)\n",
      "Requirement already satisfied: fonttools>=4.22.0 in c:\\users\\prana\\anaconda3\\lib\\site-packages (from matplotlib) (4.51.0)\n",
      "Requirement already satisfied: kiwisolver>=1.3.1 in c:\\users\\prana\\anaconda3\\lib\\site-packages (from matplotlib) (1.4.4)\n",
      "Requirement already satisfied: packaging>=20.0 in c:\\users\\prana\\anaconda3\\lib\\site-packages (from matplotlib) (23.2)\n",
      "Requirement already satisfied: pillow>=8 in c:\\users\\prana\\anaconda3\\lib\\site-packages (from matplotlib) (10.3.0)\n",
      "Requirement already satisfied: pyparsing>=2.3.1 in c:\\users\\prana\\anaconda3\\lib\\site-packages (from matplotlib) (3.0.9)\n",
      "Requirement already satisfied: requests>=2.31 in c:\\users\\prana\\anaconda3\\lib\\site-packages (from yfinance) (2.32.2)\n",
      "Requirement already satisfied: multitasking>=0.0.7 in c:\\users\\prana\\anaconda3\\lib\\site-packages (from yfinance) (0.0.11)\n",
      "Requirement already satisfied: lxml>=4.9.1 in c:\\users\\prana\\anaconda3\\lib\\site-packages (from yfinance) (5.2.1)\n",
      "Requirement already satisfied: platformdirs>=2.0.0 in c:\\users\\prana\\anaconda3\\lib\\site-packages (from yfinance) (3.10.0)\n",
      "Requirement already satisfied: frozendict>=2.3.4 in c:\\users\\prana\\anaconda3\\lib\\site-packages (from yfinance) (2.4.2)\n",
      "Requirement already satisfied: peewee>=3.16.2 in c:\\users\\prana\\anaconda3\\lib\\site-packages (from yfinance) (3.17.6)\n",
      "Requirement already satisfied: beautifulsoup4>=4.11.1 in c:\\users\\prana\\anaconda3\\lib\\site-packages (from yfinance) (4.12.3)\n",
      "Requirement already satisfied: html5lib>=1.1 in c:\\users\\prana\\anaconda3\\lib\\site-packages (from yfinance) (1.1)\n",
      "Requirement already satisfied: tensorflow-intel==2.17.0 in c:\\users\\prana\\anaconda3\\lib\\site-packages (from tensorflow) (2.17.0)\n",
      "Requirement already satisfied: absl-py>=1.0.0 in c:\\users\\prana\\anaconda3\\lib\\site-packages (from tensorflow-intel==2.17.0->tensorflow) (2.1.0)\n",
      "Requirement already satisfied: astunparse>=1.6.0 in c:\\users\\prana\\anaconda3\\lib\\site-packages (from tensorflow-intel==2.17.0->tensorflow) (1.6.3)\n",
      "Requirement already satisfied: flatbuffers>=24.3.25 in c:\\users\\prana\\anaconda3\\lib\\site-packages (from tensorflow-intel==2.17.0->tensorflow) (24.3.25)\n",
      "Requirement already satisfied: gast!=0.5.0,!=0.5.1,!=0.5.2,>=0.2.1 in c:\\users\\prana\\anaconda3\\lib\\site-packages (from tensorflow-intel==2.17.0->tensorflow) (0.6.0)\n",
      "Requirement already satisfied: google-pasta>=0.1.1 in c:\\users\\prana\\anaconda3\\lib\\site-packages (from tensorflow-intel==2.17.0->tensorflow) (0.2.0)\n",
      "Requirement already satisfied: h5py>=3.10.0 in c:\\users\\prana\\anaconda3\\lib\\site-packages (from tensorflow-intel==2.17.0->tensorflow) (3.11.0)\n",
      "Requirement already satisfied: libclang>=13.0.0 in c:\\users\\prana\\anaconda3\\lib\\site-packages (from tensorflow-intel==2.17.0->tensorflow) (18.1.1)\n",
      "Requirement already satisfied: ml-dtypes<0.5.0,>=0.3.1 in c:\\users\\prana\\anaconda3\\lib\\site-packages (from tensorflow-intel==2.17.0->tensorflow) (0.4.1)\n",
      "Requirement already satisfied: opt-einsum>=2.3.2 in c:\\users\\prana\\anaconda3\\lib\\site-packages (from tensorflow-intel==2.17.0->tensorflow) (3.3.0)\n",
      "Requirement already satisfied: protobuf!=4.21.0,!=4.21.1,!=4.21.2,!=4.21.3,!=4.21.4,!=4.21.5,<5.0.0dev,>=3.20.3 in c:\\users\\prana\\anaconda3\\lib\\site-packages (from tensorflow-intel==2.17.0->tensorflow) (3.20.3)\n",
      "Requirement already satisfied: setuptools in c:\\users\\prana\\anaconda3\\lib\\site-packages (from tensorflow-intel==2.17.0->tensorflow) (69.5.1)\n",
      "Requirement already satisfied: six>=1.12.0 in c:\\users\\prana\\anaconda3\\lib\\site-packages (from tensorflow-intel==2.17.0->tensorflow) (1.16.0)\n",
      "Requirement already satisfied: termcolor>=1.1.0 in c:\\users\\prana\\anaconda3\\lib\\site-packages (from tensorflow-intel==2.17.0->tensorflow) (2.4.0)\n",
      "Requirement already satisfied: typing-extensions>=3.6.6 in c:\\users\\prana\\anaconda3\\lib\\site-packages (from tensorflow-intel==2.17.0->tensorflow) (4.11.0)\n",
      "Requirement already satisfied: wrapt>=1.11.0 in c:\\users\\prana\\anaconda3\\lib\\site-packages (from tensorflow-intel==2.17.0->tensorflow) (1.14.1)\n",
      "Requirement already satisfied: grpcio<2.0,>=1.24.3 in c:\\users\\prana\\anaconda3\\lib\\site-packages (from tensorflow-intel==2.17.0->tensorflow) (1.66.1)\n",
      "Requirement already satisfied: tensorboard<2.18,>=2.17 in c:\\users\\prana\\anaconda3\\lib\\site-packages (from tensorflow-intel==2.17.0->tensorflow) (2.17.1)\n",
      "Requirement already satisfied: keras>=3.2.0 in c:\\users\\prana\\anaconda3\\lib\\site-packages (from tensorflow-intel==2.17.0->tensorflow) (3.5.0)\n",
      "Requirement already satisfied: soupsieve>1.2 in c:\\users\\prana\\anaconda3\\lib\\site-packages (from beautifulsoup4>=4.11.1->yfinance) (2.5)\n",
      "Requirement already satisfied: webencodings in c:\\users\\prana\\anaconda3\\lib\\site-packages (from html5lib>=1.1->yfinance) (0.5.1)\n",
      "Requirement already satisfied: charset-normalizer<4,>=2 in c:\\users\\prana\\anaconda3\\lib\\site-packages (from requests>=2.31->yfinance) (2.0.4)\n",
      "Requirement already satisfied: idna<4,>=2.5 in c:\\users\\prana\\anaconda3\\lib\\site-packages (from requests>=2.31->yfinance) (3.7)\n",
      "Requirement already satisfied: urllib3<3,>=1.21.1 in c:\\users\\prana\\anaconda3\\lib\\site-packages (from requests>=2.31->yfinance) (2.2.2)\n",
      "Requirement already satisfied: certifi>=2017.4.17 in c:\\users\\prana\\anaconda3\\lib\\site-packages (from requests>=2.31->yfinance) (2024.8.30)\n",
      "Requirement already satisfied: wheel<1.0,>=0.23.0 in c:\\users\\prana\\anaconda3\\lib\\site-packages (from astunparse>=1.6.0->tensorflow-intel==2.17.0->tensorflow) (0.43.0)\n",
      "Requirement already satisfied: rich in c:\\users\\prana\\anaconda3\\lib\\site-packages (from keras>=3.2.0->tensorflow-intel==2.17.0->tensorflow) (13.3.5)\n",
      "Requirement already satisfied: namex in c:\\users\\prana\\anaconda3\\lib\\site-packages (from keras>=3.2.0->tensorflow-intel==2.17.0->tensorflow) (0.0.8)\n",
      "Requirement already satisfied: optree in c:\\users\\prana\\anaconda3\\lib\\site-packages (from keras>=3.2.0->tensorflow-intel==2.17.0->tensorflow) (0.12.1)\n",
      "Requirement already satisfied: markdown>=2.6.8 in c:\\users\\prana\\anaconda3\\lib\\site-packages (from tensorboard<2.18,>=2.17->tensorflow-intel==2.17.0->tensorflow) (3.4.1)\n",
      "Requirement already satisfied: tensorboard-data-server<0.8.0,>=0.7.0 in c:\\users\\prana\\anaconda3\\lib\\site-packages (from tensorboard<2.18,>=2.17->tensorflow-intel==2.17.0->tensorflow) (0.7.2)\n",
      "Requirement already satisfied: werkzeug>=1.0.1 in c:\\users\\prana\\anaconda3\\lib\\site-packages (from tensorboard<2.18,>=2.17->tensorflow-intel==2.17.0->tensorflow) (3.0.3)\n",
      "Requirement already satisfied: MarkupSafe>=2.1.1 in c:\\users\\prana\\anaconda3\\lib\\site-packages (from werkzeug>=1.0.1->tensorboard<2.18,>=2.17->tensorflow-intel==2.17.0->tensorflow) (2.1.3)\n",
      "Requirement already satisfied: markdown-it-py<3.0.0,>=2.2.0 in c:\\users\\prana\\anaconda3\\lib\\site-packages (from rich->keras>=3.2.0->tensorflow-intel==2.17.0->tensorflow) (2.2.0)\n",
      "Requirement already satisfied: pygments<3.0.0,>=2.13.0 in c:\\users\\prana\\anaconda3\\lib\\site-packages (from rich->keras>=3.2.0->tensorflow-intel==2.17.0->tensorflow) (2.15.1)\n",
      "Requirement already satisfied: mdurl~=0.1 in c:\\users\\prana\\anaconda3\\lib\\site-packages (from markdown-it-py<3.0.0,>=2.2.0->rich->keras>=3.2.0->tensorflow-intel==2.17.0->tensorflow) (0.1.0)\n",
      "Note: you may need to restart the kernel to use updated packages.\n"
     ]
    }
   ],
   "source": [
    "pip install pandas numpy matplotlib yfinance ta tensorflow"
   ]
  },
  {
   "cell_type": "code",
   "execution_count": 9,
   "id": "aef97751-01a4-46af-bc68-b8412a1579a5",
   "metadata": {},
   "outputs": [],
   "source": [
    "import pandas as pd\n",
    "\n",
    "# Load your dataset\n",
    "data = pd.read_csv('NSE50.csv')\n"
   ]
  },
  {
   "cell_type": "code",
   "execution_count": 15,
   "id": "b5188711-77e2-4d91-86fb-ecab13373a12",
   "metadata": {},
   "outputs": [
    {
     "name": "stderr",
     "output_type": "stream",
     "text": [
      "C:\\Users\\prana\\AppData\\Local\\Temp\\ipykernel_11944\\3729821711.py:115: UserWarning: Could not infer format, so each element will be parsed individually, falling back to `dateutil`. To ensure parsing is consistent and as-expected, please specify a format.\n",
      "  df['Date'] = pd.to_datetime(df['Date'], errors='coerce')\n"
     ]
    },
    {
     "ename": "KeyError",
     "evalue": "'Volume'",
     "output_type": "error",
     "traceback": [
      "\u001b[1;31m---------------------------------------------------------------------------\u001b[0m",
      "\u001b[1;31mKeyError\u001b[0m                                  Traceback (most recent call last)",
      "File \u001b[1;32m~\\anaconda3\\Lib\\site-packages\\pandas\\core\\indexes\\base.py:3805\u001b[0m, in \u001b[0;36mIndex.get_loc\u001b[1;34m(self, key)\u001b[0m\n\u001b[0;32m   3804\u001b[0m \u001b[38;5;28;01mtry\u001b[39;00m:\n\u001b[1;32m-> 3805\u001b[0m     \u001b[38;5;28;01mreturn\u001b[39;00m \u001b[38;5;28mself\u001b[39m\u001b[38;5;241m.\u001b[39m_engine\u001b[38;5;241m.\u001b[39mget_loc(casted_key)\n\u001b[0;32m   3806\u001b[0m \u001b[38;5;28;01mexcept\u001b[39;00m \u001b[38;5;167;01mKeyError\u001b[39;00m \u001b[38;5;28;01mas\u001b[39;00m err:\n",
      "File \u001b[1;32mindex.pyx:167\u001b[0m, in \u001b[0;36mpandas._libs.index.IndexEngine.get_loc\u001b[1;34m()\u001b[0m\n",
      "File \u001b[1;32mindex.pyx:196\u001b[0m, in \u001b[0;36mpandas._libs.index.IndexEngine.get_loc\u001b[1;34m()\u001b[0m\n",
      "File \u001b[1;32mpandas\\\\_libs\\\\hashtable_class_helper.pxi:7081\u001b[0m, in \u001b[0;36mpandas._libs.hashtable.PyObjectHashTable.get_item\u001b[1;34m()\u001b[0m\n",
      "File \u001b[1;32mpandas\\\\_libs\\\\hashtable_class_helper.pxi:7089\u001b[0m, in \u001b[0;36mpandas._libs.hashtable.PyObjectHashTable.get_item\u001b[1;34m()\u001b[0m\n",
      "\u001b[1;31mKeyError\u001b[0m: 'Volume'",
      "\nThe above exception was the direct cause of the following exception:\n",
      "\u001b[1;31mKeyError\u001b[0m                                  Traceback (most recent call last)",
      "Cell \u001b[1;32mIn[15], line 118\u001b[0m\n\u001b[0;32m    115\u001b[0m df[\u001b[38;5;124m'\u001b[39m\u001b[38;5;124mDate\u001b[39m\u001b[38;5;124m'\u001b[39m] \u001b[38;5;241m=\u001b[39m pd\u001b[38;5;241m.\u001b[39mto_datetime(df[\u001b[38;5;124m'\u001b[39m\u001b[38;5;124mDate\u001b[39m\u001b[38;5;124m'\u001b[39m], errors\u001b[38;5;241m=\u001b[39m\u001b[38;5;124m'\u001b[39m\u001b[38;5;124mcoerce\u001b[39m\u001b[38;5;124m'\u001b[39m)\n\u001b[0;32m    117\u001b[0m \u001b[38;5;66;03m# Apply the function to the dataframe\u001b[39;00m\n\u001b[1;32m--> 118\u001b[0m df_with_indicators \u001b[38;5;241m=\u001b[39m add_technical_indicators(df)\n\u001b[0;32m    120\u001b[0m \u001b[38;5;66;03m# Save the new dataset with technical indicators to a new CSV file\u001b[39;00m\n\u001b[0;32m    121\u001b[0m df_with_indicators\u001b[38;5;241m.\u001b[39mto_csv(\u001b[38;5;124m'\u001b[39m\u001b[38;5;124m/content/NSE50_with_indicators.csv\u001b[39m\u001b[38;5;124m'\u001b[39m, index\u001b[38;5;241m=\u001b[39m\u001b[38;5;28;01mFalse\u001b[39;00m)\n",
      "Cell \u001b[1;32mIn[15], line 35\u001b[0m, in \u001b[0;36madd_technical_indicators\u001b[1;34m(df)\u001b[0m\n\u001b[0;32m     32\u001b[0m df[\u001b[38;5;124m'\u001b[39m\u001b[38;5;124mAroon_Down\u001b[39m\u001b[38;5;124m'\u001b[39m] \u001b[38;5;241m=\u001b[39m df[\u001b[38;5;124m'\u001b[39m\u001b[38;5;124mClose\u001b[39m\u001b[38;5;124m'\u001b[39m]\u001b[38;5;241m.\u001b[39mrolling(window\u001b[38;5;241m=\u001b[39m\u001b[38;5;241m25\u001b[39m)\u001b[38;5;241m.\u001b[39mapply(\u001b[38;5;28;01mlambda\u001b[39;00m x: \u001b[38;5;241m100\u001b[39m \u001b[38;5;241m*\u001b[39m (x\u001b[38;5;241m.\u001b[39margmin() \u001b[38;5;241m/\u001b[39m \u001b[38;5;28mlen\u001b[39m(x)), raw\u001b[38;5;241m=\u001b[39m\u001b[38;5;28;01mTrue\u001b[39;00m)\n\u001b[0;32m     34\u001b[0m \u001b[38;5;66;03m# Add Price Volume Trend\u001b[39;00m\n\u001b[1;32m---> 35\u001b[0m df[\u001b[38;5;124m'\u001b[39m\u001b[38;5;124mPVT\u001b[39m\u001b[38;5;124m'\u001b[39m] \u001b[38;5;241m=\u001b[39m (df[\u001b[38;5;124m'\u001b[39m\u001b[38;5;124mClose\u001b[39m\u001b[38;5;124m'\u001b[39m]\u001b[38;5;241m.\u001b[39mpct_change() \u001b[38;5;241m*\u001b[39m df[\u001b[38;5;124m'\u001b[39m\u001b[38;5;124mVolume\u001b[39m\u001b[38;5;124m'\u001b[39m])\u001b[38;5;241m.\u001b[39mcumsum()\n\u001b[0;32m     37\u001b[0m \u001b[38;5;66;03m# Add Acceleration Bands\u001b[39;00m\n\u001b[0;32m     38\u001b[0m df[\u001b[38;5;124m'\u001b[39m\u001b[38;5;124mAcceleration_Bands\u001b[39m\u001b[38;5;124m'\u001b[39m] \u001b[38;5;241m=\u001b[39m df[\u001b[38;5;124m'\u001b[39m\u001b[38;5;124mClose\u001b[39m\u001b[38;5;124m'\u001b[39m] \u001b[38;5;241m+\u001b[39m (df[\u001b[38;5;124m'\u001b[39m\u001b[38;5;124mClose\u001b[39m\u001b[38;5;124m'\u001b[39m] \u001b[38;5;241m-\u001b[39m df[\u001b[38;5;124m'\u001b[39m\u001b[38;5;124mClose\u001b[39m\u001b[38;5;124m'\u001b[39m]\u001b[38;5;241m.\u001b[39mshift(\u001b[38;5;241m1\u001b[39m))\n",
      "File \u001b[1;32m~\\anaconda3\\Lib\\site-packages\\pandas\\core\\frame.py:4102\u001b[0m, in \u001b[0;36mDataFrame.__getitem__\u001b[1;34m(self, key)\u001b[0m\n\u001b[0;32m   4100\u001b[0m \u001b[38;5;28;01mif\u001b[39;00m \u001b[38;5;28mself\u001b[39m\u001b[38;5;241m.\u001b[39mcolumns\u001b[38;5;241m.\u001b[39mnlevels \u001b[38;5;241m>\u001b[39m \u001b[38;5;241m1\u001b[39m:\n\u001b[0;32m   4101\u001b[0m     \u001b[38;5;28;01mreturn\u001b[39;00m \u001b[38;5;28mself\u001b[39m\u001b[38;5;241m.\u001b[39m_getitem_multilevel(key)\n\u001b[1;32m-> 4102\u001b[0m indexer \u001b[38;5;241m=\u001b[39m \u001b[38;5;28mself\u001b[39m\u001b[38;5;241m.\u001b[39mcolumns\u001b[38;5;241m.\u001b[39mget_loc(key)\n\u001b[0;32m   4103\u001b[0m \u001b[38;5;28;01mif\u001b[39;00m is_integer(indexer):\n\u001b[0;32m   4104\u001b[0m     indexer \u001b[38;5;241m=\u001b[39m [indexer]\n",
      "File \u001b[1;32m~\\anaconda3\\Lib\\site-packages\\pandas\\core\\indexes\\base.py:3812\u001b[0m, in \u001b[0;36mIndex.get_loc\u001b[1;34m(self, key)\u001b[0m\n\u001b[0;32m   3807\u001b[0m     \u001b[38;5;28;01mif\u001b[39;00m \u001b[38;5;28misinstance\u001b[39m(casted_key, \u001b[38;5;28mslice\u001b[39m) \u001b[38;5;129;01mor\u001b[39;00m (\n\u001b[0;32m   3808\u001b[0m         \u001b[38;5;28misinstance\u001b[39m(casted_key, abc\u001b[38;5;241m.\u001b[39mIterable)\n\u001b[0;32m   3809\u001b[0m         \u001b[38;5;129;01mand\u001b[39;00m \u001b[38;5;28many\u001b[39m(\u001b[38;5;28misinstance\u001b[39m(x, \u001b[38;5;28mslice\u001b[39m) \u001b[38;5;28;01mfor\u001b[39;00m x \u001b[38;5;129;01min\u001b[39;00m casted_key)\n\u001b[0;32m   3810\u001b[0m     ):\n\u001b[0;32m   3811\u001b[0m         \u001b[38;5;28;01mraise\u001b[39;00m InvalidIndexError(key)\n\u001b[1;32m-> 3812\u001b[0m     \u001b[38;5;28;01mraise\u001b[39;00m \u001b[38;5;167;01mKeyError\u001b[39;00m(key) \u001b[38;5;28;01mfrom\u001b[39;00m \u001b[38;5;21;01merr\u001b[39;00m\n\u001b[0;32m   3813\u001b[0m \u001b[38;5;28;01mexcept\u001b[39;00m \u001b[38;5;167;01mTypeError\u001b[39;00m:\n\u001b[0;32m   3814\u001b[0m     \u001b[38;5;66;03m# If we have a listlike key, _check_indexing_error will raise\u001b[39;00m\n\u001b[0;32m   3815\u001b[0m     \u001b[38;5;66;03m#  InvalidIndexError. Otherwise we fall through and re-raise\u001b[39;00m\n\u001b[0;32m   3816\u001b[0m     \u001b[38;5;66;03m#  the TypeError.\u001b[39;00m\n\u001b[0;32m   3817\u001b[0m     \u001b[38;5;28mself\u001b[39m\u001b[38;5;241m.\u001b[39m_check_indexing_error(key)\n",
      "\u001b[1;31mKeyError\u001b[0m: 'Volume'"
     ]
    }
   ],
   "source": [
    "import pandas as pd\n",
    "import numpy as np\n",
    "\n",
    "# Define the function to calculate RSI\n",
    "def calculate_rsi(series, period=14):\n",
    "    delta = series.diff()\n",
    "    gain = (delta.where(delta > 0, 0)).rolling(window=period).mean()\n",
    "    loss = (-delta.where(delta < 0, 0)).rolling(window=period).mean()\n",
    "    rs = gain / loss\n",
    "    return 100 - (100 / (1 + rs))\n",
    "\n",
    "# Define the function to add technical indicators\n",
    "def add_technical_indicators(df):\n",
    "    # Rename columns if necessary\n",
    "    if 'Volume' not in df.columns:\n",
    "        df.rename(columns={'Vol': 'Volume'}, inplace=True)\n",
    "    \n",
    "    # Add Momentum_1D\n",
    "    df['Momentum_1D'] = df['Close'] - df['Close'].shift(1)\n",
    "    \n",
    "    # Add RSI_14D\n",
    "    df['RSI_14D'] = calculate_rsi(df['Close']).fillna(0)\n",
    "    \n",
    "    # Add Bollinger Bands\n",
    "    rolling_mean = df['Close'].rolling(window=20).mean()\n",
    "    rolling_std = df['Close'].rolling(window=20).std()\n",
    "    df['Bollinger_Upper'] = rolling_mean + (rolling_std * 2)\n",
    "    df['Bollinger_Lower'] = rolling_mean - (rolling_std * 2)\n",
    "    \n",
    "    # Add Aroon\n",
    "    df['Aroon_Up'] = df['Close'].rolling(window=25).apply(lambda x: 100 * (x.argmax() / len(x)), raw=True)\n",
    "    df['Aroon_Down'] = df['Close'].rolling(window=25).apply(lambda x: 100 * (x.argmin() / len(x)), raw=True)\n",
    "    \n",
    "    # Add Price Volume Trend\n",
    "    df['PVT'] = (df['Close'].pct_change() * df['Volume']).cumsum()\n",
    "    \n",
    "    # Add Acceleration Bands\n",
    "    df['Acceleration_Bands'] = df['Close'] + (df['Close'] - df['Close'].shift(1))\n",
    "    \n",
    "    # Add Stochastic\n",
    "    low_min = df['Low'].rolling(window=14).min()\n",
    "    high_max = df['High'].rolling(window=14).max()\n",
    "    df['Stochastic'] = 100 * ((df['Close'] - low_min) / (high_max - low_min))\n",
    "    \n",
    "    # Add Chaikin Money Flow\n",
    "    df['CMF'] = ((df['Close'] - df['Low']) - (df['High'] - df['Close'])) / (df['High'] - df['Low']) * df['Volume']\n",
    "    \n",
    "    # Add Parabolic SAR (Placeholder; complex implementation needed)\n",
    "    df['SAR'] = df['Close']  # Placeholder\n",
    "    \n",
    "    # Add Rate of Change\n",
    "    df['ROC'] = df['Close'].pct_change(periods=12) * 100\n",
    "    \n",
    "    # Add VWAP\n",
    "    df['VWAP'] = (df['Close'] * df['Volume']).cumsum() / df['Volume'].cumsum()\n",
    "    \n",
    "    # Add Commodity Channel Index (CCI)\n",
    "    tp = (df['High'] + df['Low'] + df['Close']) / 3\n",
    "    cci_mean = tp.rolling(window=20).mean()\n",
    "    cci_std = tp.rolling(window=20).std()\n",
    "    df['CCI'] = (tp - cci_mean) / (0.015 * cci_std)\n",
    "    \n",
    "    # Add On Balance Volume (OBV)\n",
    "    df['OBV'] = (df['Volume'] * np.sign(df['Close'].diff())).cumsum()\n",
    "    \n",
    "    # Add Keltner Channels\n",
    "    ema = df['Close'].ewm(span=20).mean()\n",
    "    df['Keltner_Upper'] = ema + (df['Close'].rolling(window=20).std() * 1.5)\n",
    "    df['Keltner_Lower'] = ema - (df['Close'].rolling(window=20).std() * 1.5)\n",
    "    \n",
    "    # Add Triple Exponential Moving Average (TEMA)\n",
    "    df['TEMA'] = df['Close'].ewm(span=21).mean()  # Simplified example\n",
    "    \n",
    "    # Add Normalized Average True Range (NATR)\n",
    "    tr = df[['High', 'Low', 'Close']].apply(lambda x: max(x['High'] - x['Low'], abs(x['High'] - x['Close'].shift(1)), abs(x['Low'] - x['Close'].shift(1))), axis=1)\n",
    "    natr = tr.rolling(window=14).mean() / df['Close'].rolling(window=14).mean() * 100\n",
    "    df['NATR'] = natr\n",
    "    \n",
    "    # Add Directional Movement Indicators\n",
    "    df['DM_plus'] = df['High'] - df['High'].shift(1)\n",
    "    df['DM_minus'] = df['Low'].shift(1) - df['Low']\n",
    "    df['DM_plus'] = df['DM_plus'].clip(lower=0)\n",
    "    df['DM_minus'] = df['DM_minus'].clip(lower=0)\n",
    "    \n",
    "    # Add MACD and MACD Signal\n",
    "    df['MACD'] = df['Close'].ewm(span=12).mean() - df['Close'].ewm(span=26).mean()\n",
    "    df['MACD_Signal'] = df['MACD'].ewm(span=9).mean()\n",
    "    \n",
    "    # Add Money Flow Index (MFI)\n",
    "    typical_price = (df['High'] + df['Low'] + df['Close']) / 3\n",
    "    money_flow = typical_price * df['Volume']\n",
    "    mfi = money_flow.rolling(window=14).mean() / money_flow.rolling(window=14).std()\n",
    "    df['MFI'] = mfi\n",
    "    \n",
    "    # Add Ichimoku Indicators\n",
    "    df['Ichimoku_A'] = (df['High'].rolling(window=26).max() + df['Low'].rolling(window=26).min()) / 2\n",
    "    df['Ichimoku_B'] = (df['High'].rolling(window=52).max() + df['Low'].rolling(window=52).min()) / 2\n",
    "    \n",
    "    # Add William %R\n",
    "    df['William_R'] = 100 * (df['Close'].rolling(window=14).max() - df['Close']) / (df['Close'].rolling(window=14).max() - df['Close'].rolling(window=14).min())\n",
    "    \n",
    "    # Add Volume MINMAX\n",
    "    df['Volume_MINMAX'] = (df['Volume'] - df['Volume'].rolling(window=14).min()) / (df['Volume'].rolling(window=14).max() - df['Volume'].rolling(window=14).min())\n",
    "    \n",
    "    # Add Adaptive Moving Average (AMA)\n",
    "    ama = df['Close'].ewm(span=14).mean()  # Simplified example\n",
    "    df['AMA'] = ama\n",
    "    \n",
    "    return df\n",
    "\n",
    "# Load the dataset\n",
    "df = pd.read_csv('NSE50.csv')\n",
    "\n",
    "# Ensure the Date column is in datetime format\n",
    "df['Date'] = pd.to_datetime(df['Date'], errors='coerce')\n",
    "\n",
    "# Apply the function to the dataframe\n",
    "df_with_indicators = add_technical_indicators(df)\n",
    "\n",
    "# Save the new dataset with technical indicators to a new CSV file\n",
    "df_with_indicators.to_csv('/content/NSE50_with_indicators.csv', index=False)\n",
    "\n",
    "# Print the results\n",
    "print(df_with_indicators.tail(5))\n"
   ]
  },
  {
   "cell_type": "code",
   "execution_count": 17,
   "id": "556641d6-ba8b-4708-8e48-5425bd4df3bd",
   "metadata": {},
   "outputs": [
    {
     "ename": "SyntaxError",
     "evalue": "invalid syntax (2977875142.py, line 1)",
     "output_type": "error",
     "traceback": [
      "\u001b[1;36m  Cell \u001b[1;32mIn[17], line 1\u001b[1;36m\u001b[0m\n\u001b[1;33m    pip install yfinance\u001b[0m\n\u001b[1;37m        ^\u001b[0m\n\u001b[1;31mSyntaxError\u001b[0m\u001b[1;31m:\u001b[0m invalid syntax\n"
     ]
    }
   ],
   "source": [
    "pip install yfinance\n",
    "\n"
   ]
  },
  {
   "cell_type": "code",
   "execution_count": 19,
   "id": "f1034ff2-177b-4186-b74b-69ed34e88c02",
   "metadata": {},
   "outputs": [
    {
     "name": "stdout",
     "output_type": "stream",
     "text": [
      "Requirement already satisfied: yfinance in c:\\users\\prana\\anaconda3\\lib\\site-packages (0.2.43)Note: you may need to restart the kernel to use updated packages.\n",
      "\n",
      "Requirement already satisfied: pandas>=1.3.0 in c:\\users\\prana\\anaconda3\\lib\\site-packages (from yfinance) (2.2.2)\n",
      "Requirement already satisfied: numpy>=1.16.5 in c:\\users\\prana\\anaconda3\\lib\\site-packages (from yfinance) (1.26.4)\n",
      "Requirement already satisfied: requests>=2.31 in c:\\users\\prana\\anaconda3\\lib\\site-packages (from yfinance) (2.32.2)\n",
      "Requirement already satisfied: multitasking>=0.0.7 in c:\\users\\prana\\anaconda3\\lib\\site-packages (from yfinance) (0.0.11)\n",
      "Requirement already satisfied: lxml>=4.9.1 in c:\\users\\prana\\anaconda3\\lib\\site-packages (from yfinance) (5.2.1)\n",
      "Requirement already satisfied: platformdirs>=2.0.0 in c:\\users\\prana\\anaconda3\\lib\\site-packages (from yfinance) (3.10.0)\n",
      "Requirement already satisfied: pytz>=2022.5 in c:\\users\\prana\\anaconda3\\lib\\site-packages (from yfinance) (2024.1)\n",
      "Requirement already satisfied: frozendict>=2.3.4 in c:\\users\\prana\\anaconda3\\lib\\site-packages (from yfinance) (2.4.2)\n",
      "Requirement already satisfied: peewee>=3.16.2 in c:\\users\\prana\\anaconda3\\lib\\site-packages (from yfinance) (3.17.6)\n",
      "Requirement already satisfied: beautifulsoup4>=4.11.1 in c:\\users\\prana\\anaconda3\\lib\\site-packages (from yfinance) (4.12.3)\n",
      "Requirement already satisfied: html5lib>=1.1 in c:\\users\\prana\\anaconda3\\lib\\site-packages (from yfinance) (1.1)\n",
      "Requirement already satisfied: soupsieve>1.2 in c:\\users\\prana\\anaconda3\\lib\\site-packages (from beautifulsoup4>=4.11.1->yfinance) (2.5)\n",
      "Requirement already satisfied: six>=1.9 in c:\\users\\prana\\anaconda3\\lib\\site-packages (from html5lib>=1.1->yfinance) (1.16.0)\n",
      "Requirement already satisfied: webencodings in c:\\users\\prana\\anaconda3\\lib\\site-packages (from html5lib>=1.1->yfinance) (0.5.1)\n",
      "Requirement already satisfied: python-dateutil>=2.8.2 in c:\\users\\prana\\anaconda3\\lib\\site-packages (from pandas>=1.3.0->yfinance) (2.9.0.post0)\n",
      "Requirement already satisfied: tzdata>=2022.7 in c:\\users\\prana\\anaconda3\\lib\\site-packages (from pandas>=1.3.0->yfinance) (2023.3)\n",
      "Requirement already satisfied: charset-normalizer<4,>=2 in c:\\users\\prana\\anaconda3\\lib\\site-packages (from requests>=2.31->yfinance) (2.0.4)\n",
      "Requirement already satisfied: idna<4,>=2.5 in c:\\users\\prana\\anaconda3\\lib\\site-packages (from requests>=2.31->yfinance) (3.7)\n",
      "Requirement already satisfied: urllib3<3,>=1.21.1 in c:\\users\\prana\\anaconda3\\lib\\site-packages (from requests>=2.31->yfinance) (2.2.2)\n",
      "Requirement already satisfied: certifi>=2017.4.17 in c:\\users\\prana\\anaconda3\\lib\\site-packages (from requests>=2.31->yfinance) (2024.8.30)\n"
     ]
    }
   ],
   "source": [
    "pip install yfinance\n"
   ]
  },
  {
   "cell_type": "code",
   "execution_count": 21,
   "id": "0b585591-b6d3-4242-8851-34073954c869",
   "metadata": {},
   "outputs": [
    {
     "name": "stdout",
     "output_type": "stream",
     "text": [
      "{'maxAge': 86400, 'priceHint': 2, 'previousClose': 25377.55, 'open': 25487.05, 'dayLow': 25376.05, 'dayHigh': 25611.95, 'regularMarketPreviousClose': 25377.55, 'regularMarketOpen': 25487.05, 'regularMarketDayLow': 25376.05, 'regularMarketDayHigh': 25611.95, 'averageVolume': 292093, 'averageVolume10days': 255010, 'averageDailyVolume10Day': 255010, 'fiftyTwoWeekLow': 18837.85, 'fiftyTwoWeekHigh': 25611.95, 'fiftyDayAverage': 24756.895, 'twoHundredDayAverage': 22829.7, 'currency': 'INR', 'exchange': 'NSI', 'quoteType': 'INDEX', 'symbol': '^NSEI', 'underlyingSymbol': '^NSEI', 'shortName': 'NIFTY 50', 'longName': 'NIFTY 50', 'firstTradeDateEpochUtc': 1190000700, 'timeZoneFullName': 'Asia/Kolkata', 'timeZoneShortName': 'IST', 'uuid': '9a3680d6-8f20-3f84-8cd3-66d847143a00', 'messageBoardId': 'finmb_INDEXNSEI', 'gmtOffSetMilliseconds': 19800000, 'trailingPegRatio': None}\n"
     ]
    }
   ],
   "source": [
    "import yfinance as yahooFinance\n",
    "\n",
    "# Here We are getting Facebook financial information\n",
    "# We need to pass FB as argument for that\n",
    "GetFacebookInformation = yahooFinance.Ticker(\"^NSEI\")\n",
    "\n",
    "# whole python dictionary is printed here\n",
    "print(GetFacebookInformation.info)\n"
   ]
  },
  {
   "cell_type": "code",
   "execution_count": 23,
   "id": "c3ce4cb8-3a1d-4b31-ae71-6bc9e232ab7f",
   "metadata": {},
   "outputs": [
    {
     "name": "stdout",
     "output_type": "stream",
     "text": [
      "                                   Open          High           Low  \\\n",
      "Date                                                                  \n",
      "2009-01-02 00:00:00+05:30   3034.600098   3079.850098   3021.800049   \n",
      "2009-01-05 00:00:00+05:30   3058.750000   3131.949951   3056.449951   \n",
      "2009-01-06 00:00:00+05:30   3121.500000   3141.800049   3056.100098   \n",
      "2009-01-07 00:00:00+05:30   3112.800049   3147.199951   2888.199951   \n",
      "2009-01-09 00:00:00+05:30   2919.949951   2929.850098   2810.250000   \n",
      "...                                 ...           ...           ...   \n",
      "2019-12-23 00:00:00+05:30  12235.450195  12287.150391  12213.250000   \n",
      "2019-12-24 00:00:00+05:30  12269.250000  12283.700195  12202.099609   \n",
      "2019-12-26 00:00:00+05:30  12211.849609  12221.549805  12118.849609   \n",
      "2019-12-27 00:00:00+05:30  12172.900391  12258.450195  12157.900391   \n",
      "2019-12-30 00:00:00+05:30  12274.900391  12286.450195  12213.799805   \n",
      "\n",
      "                                  Close  Volume  Dividends  Stock Splits  \n",
      "Date                                                                      \n",
      "2009-01-02 00:00:00+05:30   3046.750000       0        0.0           0.0  \n",
      "2009-01-05 00:00:00+05:30   3121.449951       0        0.0           0.0  \n",
      "2009-01-06 00:00:00+05:30   3112.800049       0        0.0           0.0  \n",
      "2009-01-07 00:00:00+05:30   2920.399902       0        0.0           0.0  \n",
      "2009-01-09 00:00:00+05:30   2873.000000       0        0.0           0.0  \n",
      "...                                 ...     ...        ...           ...  \n",
      "2019-12-23 00:00:00+05:30  12262.750000  604800        0.0           0.0  \n",
      "2019-12-24 00:00:00+05:30  12214.549805  470300        0.0           0.0  \n",
      "2019-12-26 00:00:00+05:30  12126.549805  520300        0.0           0.0  \n",
      "2019-12-27 00:00:00+05:30  12245.799805  383800        0.0           0.0  \n",
      "2019-12-30 00:00:00+05:30  12255.849609  411100        0.0           0.0  \n",
      "\n",
      "[2683 rows x 7 columns]\n"
     ]
    }
   ],
   "source": [
    "import yfinance as yahooFinance\n",
    "\n",
    "# in order to specify start date and \n",
    "# end date we need datetime package\n",
    "import datetime\n",
    "\n",
    "# startDate , as per our convenience we can modify\n",
    "startDate = datetime.datetime(2009, 1, 1)\n",
    "\n",
    "# endDate , as per our convenience we can modify\n",
    "endDate = datetime.datetime(2019, 12, 31)\n",
    "GetFacebookInformation = yahooFinance.Ticker(\"^NSEI\")\n",
    "\n",
    "# pass the parameters as the taken dates for start and end\n",
    "print(GetFacebookInformation.history(start=startDate, \n",
    "\t\t\t\t\t\t\t\t\tend=endDate))\n"
   ]
  },
  {
   "cell_type": "code",
   "execution_count": 25,
   "id": "5e4deb3c-6f41-4125-b6ba-92965527a9fd",
   "metadata": {},
   "outputs": [],
   "source": [
    "df.to_excel('output_data.xlsx', index=False)"
   ]
  },
  {
   "cell_type": "code",
   "execution_count": 31,
   "id": "35b15e63-9bbb-492e-ac4a-7040ced9cf94",
   "metadata": {},
   "outputs": [
    {
     "name": "stdout",
     "output_type": "stream",
     "text": [
      "Requirement already satisfied: pandas in c:\\users\\prana\\anaconda3\\lib\\site-packages (2.2.2)\n",
      "Requirement already satisfied: openpyxl in c:\\users\\prana\\anaconda3\\lib\\site-packages (3.1.2)\n",
      "Requirement already satisfied: numpy>=1.26.0 in c:\\users\\prana\\anaconda3\\lib\\site-packages (from pandas) (1.26.4)\n",
      "Requirement already satisfied: python-dateutil>=2.8.2 in c:\\users\\prana\\anaconda3\\lib\\site-packages (from pandas) (2.9.0.post0)\n",
      "Requirement already satisfied: pytz>=2020.1 in c:\\users\\prana\\anaconda3\\lib\\site-packages (from pandas) (2024.1)\n",
      "Requirement already satisfied: tzdata>=2022.7 in c:\\users\\prana\\anaconda3\\lib\\site-packages (from pandas) (2023.3)\n",
      "Requirement already satisfied: et-xmlfile in c:\\users\\prana\\anaconda3\\lib\\site-packages (from openpyxl) (1.1.0)\n",
      "Requirement already satisfied: six>=1.5 in c:\\users\\prana\\anaconda3\\lib\\site-packages (from python-dateutil>=2.8.2->pandas) (1.16.0)\n",
      "Note: you may need to restart the kernel to use updated packages.\n"
     ]
    }
   ],
   "source": [
    "pip install pandas openpyxl"
   ]
  },
  {
   "cell_type": "code",
   "execution_count": 35,
   "id": "42c52814-a86e-4fb4-ae8f-4ba478e229fb",
   "metadata": {},
   "outputs": [
    {
     "ename": "NameError",
     "evalue": "name 'true' is not defined",
     "output_type": "error",
     "traceback": [
      "\u001b[1;31m---------------------------------------------------------------------------\u001b[0m",
      "\u001b[1;31mNameError\u001b[0m                                 Traceback (most recent call last)",
      "Cell \u001b[1;32mIn[35], line 1\u001b[0m\n\u001b[1;32m----> 1\u001b[0m df\u001b[38;5;241m.\u001b[39mto_excel(\u001b[38;5;124m'\u001b[39m\u001b[38;5;124moutput_data.xlsx\u001b[39m\u001b[38;5;124m'\u001b[39m, index\u001b[38;5;241m=\u001b[39mtrue)\n",
      "\u001b[1;31mNameError\u001b[0m: name 'true' is not defined"
     ]
    }
   ],
   "source": [
    "\n",
    "df.to_excel('output_data.xlsx', index=False)"
   ]
  },
  {
   "cell_type": "code",
   "execution_count": null,
   "id": "4fa33fbf-4a0c-4df6-9182-3b2e3730c304",
   "metadata": {},
   "outputs": [],
   "source": []
  }
 ],
 "metadata": {
  "kernelspec": {
   "display_name": "Python 3 (ipykernel)",
   "language": "python",
   "name": "python3"
  },
  "language_info": {
   "codemirror_mode": {
    "name": "ipython",
    "version": 3
   },
   "file_extension": ".py",
   "mimetype": "text/x-python",
   "name": "python",
   "nbconvert_exporter": "python",
   "pygments_lexer": "ipython3",
   "version": "3.12.4"
  }
 },
 "nbformat": 4,
 "nbformat_minor": 5
}
