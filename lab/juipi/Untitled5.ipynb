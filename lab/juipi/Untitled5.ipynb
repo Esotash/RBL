{
 "cells": [
  {
   "cell_type": "code",
   "execution_count": null,
   "id": "6bc90e02-9556-4dad-9d23-b264714df9ab",
   "metadata": {},
   "outputs": [],
   "source": [
    "import pandas as pd\n",
    "import networkx as nx\n",
    "from sklearn.metrics.pairwise import cosine_similarity\n",
    "from sklearn.preprocessing import StandardScaler\n",
    "\n",
    "# Load the dataset\n",
    "data = pd.read_json('http://snap.stanford.edu/data/amazon/productGraph/categoryFiles/reviews_Electronics_5.json.gz', lines=True)\n",
    "\n",
    "# Select relevant columns and drop duplicates\n",
    "data = data[['reviewerID', 'asin', 'overall']]\n",
    "data.drop_duplicates(inplace=True)\n"
   ]
  },
  {
   "cell_type": "code",
   "execution_count": null,
   "id": "4d38efdf-c670-4043-ac6e-dcd0e5cd07c4",
   "metadata": {},
   "outputs": [],
   "source": [
    "# Create a directed graph from user interactions\n",
    "def create_product_graph(data):\n",
    "    G = nx.DiGraph()\n",
    "    for _, row in data.iterrows():\n",
    "        G.add_edge(row['reviewerID'], row['asin'], weight=row['overall'])  # Weighted edges\n",
    "    return G\n",
    "\n",
    "# Calculate PageRank scores\n",
    "def calculate_pagerank(G):\n",
    "    return nx.pagerank(G, weight='weight')\n",
    "\n",
    "# Build the graph and calculate PageRank\n",
    "product_graph = create_product_graph(data)\n",
    "pagerank_scores = calculate_pagerank(product_graph)\n",
    "\n",
    "# Convert PageRank scores to DataFrame for easy access\n",
    "pagerank_df = pd.DataFrame(pagerank_scores.items(), columns=['asin', 'PageRank'])\n",
    "pagerank_df.set_index('asin', inplace=True)\n",
    "a"
   ]
  },
  {
   "cell_type": "code",
   "execution_count": null,
   "id": "f48b339d-a9f2-4f1e-9de9-8a08d4558683",
   "metadata": {},
   "outputs": [],
   "source": [
    "import gzip\n",
    "import json\n",
    "from typing import Any\n",
    "\n",
    "def decompress_gzip_file(file_path: str) -> Any:\n",
    "    \"\"\"\n",
    "    Decompresses a gzipped JSON file and returns its content.\n",
    "    \n",
    "    Args:\n",
    "    file_path (str): The path to the gzipped JSON file.\n",
    "    \n",
    "    Returns:\n",
    "    Any: The content of the JSON file, parsed into a Python object.\n",
    "    \"\"\"\n",
    "    with gzip.open(file_path, 'rt', encoding='utf-8') as f:\n",
    "        return json.load(f)\n",
    "\n",
    "# Example usage\n",
    "file_path = ''http://snap.stanford.edu/data/amazon/productGraph/categoryFiles/reviews_Electronics_5.json.gz'\n",
    "data = decompress_gzip_file(file_path)"
   ]
  },
  {
   "cell_type": "code",
   "execution_count": null,
   "id": "b6c63c05-7701-468a-aa44-67f92dcc20b2",
   "metadata": {},
   "outputs": [],
   "source": [
    "# Create user profiles based on average ratings for each product\n",
    "user_profiles = data.groupby(['reviewerID', 'asin'])['overall'].mean().unstack(fill_value=0)\n",
    "\n",
    "# Standardize the user profiles for cosine similarity calculation\n",
    "scaler = StandardScaler()\n",
    "user_profiles_scaled = scaler.fit_transform(user_profiles)\n",
    "\n",
    "# Calculate cosine similarity matrix between users\n",
    "user_similarity = cosine_similarity(user_profiles_scaled)\n",
    "user_similarity_df = pd.DataFrame(user_similarity, index=user_profiles.index, columns=user_profiles.index)\n"
   ]
  },
  {
   "cell_type": "code",
   "execution_count": null,
   "id": "bbf515ef-2ba1-4b22-b35d-9168cd02eef0",
   "metadata": {},
   "outputs": [],
   "source": []
  }
 ],
 "metadata": {
  "kernelspec": {
   "display_name": "Python 3 (ipykernel)",
   "language": "python",
   "name": "python3"
  },
  "language_info": {
   "codemirror_mode": {
    "name": "ipython",
    "version": 3
   },
   "file_extension": ".py",
   "mimetype": "text/x-python",
   "name": "python",
   "nbconvert_exporter": "python",
   "pygments_lexer": "ipython3",
   "version": "3.12.4"
  }
 },
 "nbformat": 4,
 "nbformat_minor": 5
}
